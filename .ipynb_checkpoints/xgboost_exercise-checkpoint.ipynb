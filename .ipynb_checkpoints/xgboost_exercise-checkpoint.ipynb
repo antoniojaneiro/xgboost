{
 "cells": [
  {
   "cell_type": "markdown",
   "id": "7764e412-1b3c-4696-94ce-bb138d697585",
   "metadata": {},
   "source": [
    "# XGBoost"
   ]
  },
  {
   "cell_type": "markdown",
   "id": "b4dd1f49-1a24-49ff-8cbf-49c4c369d793",
   "metadata": {},
   "source": [
    "### XGBoost Overview\n",
    "\n",
    "**XGBoost** (eXtreme Gradient Boosting) is a machine learning algorithm that is efficient and scalable for tasks like classification and regression. It is an implementation of gradient-boosted decision trees designed for high performance.\n",
    "\n",
    "#### Key Features\n",
    "- **Gradient Boosting**: Sequentially builds models to correct errors of previous ones.\n",
    "- **Regularization**: L1 and L2 regularization to prevent overfitting.\n",
    "- **Missing Values**: Handles missing data internally.\n",
    "- **Parallel Processing**: Optimized for speed using hardware resources.\n",
    "- **Tree Pruning**: Uses depth-first approach to prune trees.\n",
    "\n",
    "#### How XGBoost Works\n",
    "1. **Initialization**: Start with an initial prediction (e.g., mean for regression).\n",
    "2. **Residuals**: Compute the error (residuals).\n",
    "3. **Fit Tree**: Fit a decision tree to the residuals.\n",
    "4. **Update**: Update the prediction by adding the new tree.\n",
    "5. **Repeat**: Continue until error is minimized.\n",
    "\n",
    "#### Important Parameters\n",
    "- **Learning Rate (eta)**: Controls contribution of each tree.\n",
    "- **Max Depth (max_depth)**: Maximum depth of each tree.\n",
    "- **Subsample**: Fraction of data used per tree.\n",
    "- **Colsample_bytree**: Fraction of features used per tree.\n",
    "- **n_estimators**: Number of boosting rounds.\n",
    "\n",
    "#### Objective Function\n",
    "\n",
    "The model minimizes the following objective function:\n",
    "\n",
    "$$\n",
    "\\text{Obj} = \\sum_{i=1}^{n} L(y_i, \\hat{y}_i^{(t)}) + \\sum_{t=1}^{T} \\Omega(f_t)\n",
    "$$\n",
    "\n",
    "Where the first part is the loss function, and the second part is the regularization term.\n"
   ]
  },
  {
   "cell_type": "markdown",
   "id": "03cac01c-e48c-4cac-be2b-82a98a584061",
   "metadata": {},
   "source": [
    "Lets start with our first exercise! We will be training a XGBoost Classifier to try to predict whether a certain individual had an income of greater than 50,000 based on their demographic information."
   ]
  },
  {
   "cell_type": "markdown",
   "id": "0e133c0f-ab84-4425-8f8a-e9fe2f58b091",
   "metadata": {},
   "source": [
    "# 1. Load Data"
   ]
  },
  {
   "cell_type": "code",
   "execution_count": 1,
   "id": "95501bb1-90f1-419a-96be-12fc1c8ee807",
   "metadata": {},
   "outputs": [],
   "source": [
    "import numpy as np\n",
    "import pandas as pd"
   ]
  },
  {
   "cell_type": "code",
   "execution_count": 2,
   "id": "9c56a640-52a3-4e6c-95cf-20ae9b0c414a",
   "metadata": {},
   "outputs": [],
   "source": [
    "train_set = pd.read_csv('http://archive.ics.uci.edu/ml/machine-learning-databases/adult/adult.data', header = None)\n",
    "test_set = pd.read_csv('http://archive.ics.uci.edu/ml/machine-learning-databases/adult/adult.test', skiprows = 1, header = None) # Make sure to skip a row for the test set"
   ]
  },
  {
   "cell_type": "code",
   "execution_count": 3,
   "id": "0fa7ca7d-b7ba-488f-81d2-4150ffd7e04c",
   "metadata": {},
   "outputs": [
    {
     "data": {
      "text/html": [
       "<div>\n",
       "<style scoped>\n",
       "    .dataframe tbody tr th:only-of-type {\n",
       "        vertical-align: middle;\n",
       "    }\n",
       "\n",
       "    .dataframe tbody tr th {\n",
       "        vertical-align: top;\n",
       "    }\n",
       "\n",
       "    .dataframe thead th {\n",
       "        text-align: right;\n",
       "    }\n",
       "</style>\n",
       "<table border=\"1\" class=\"dataframe\">\n",
       "  <thead>\n",
       "    <tr style=\"text-align: right;\">\n",
       "      <th></th>\n",
       "      <th>0</th>\n",
       "      <th>1</th>\n",
       "      <th>2</th>\n",
       "      <th>3</th>\n",
       "      <th>4</th>\n",
       "      <th>5</th>\n",
       "      <th>6</th>\n",
       "      <th>7</th>\n",
       "      <th>8</th>\n",
       "      <th>9</th>\n",
       "      <th>10</th>\n",
       "      <th>11</th>\n",
       "      <th>12</th>\n",
       "      <th>13</th>\n",
       "      <th>14</th>\n",
       "    </tr>\n",
       "  </thead>\n",
       "  <tbody>\n",
       "    <tr>\n",
       "      <th>0</th>\n",
       "      <td>39</td>\n",
       "      <td>State-gov</td>\n",
       "      <td>77516</td>\n",
       "      <td>Bachelors</td>\n",
       "      <td>13</td>\n",
       "      <td>Never-married</td>\n",
       "      <td>Adm-clerical</td>\n",
       "      <td>Not-in-family</td>\n",
       "      <td>White</td>\n",
       "      <td>Male</td>\n",
       "      <td>2174</td>\n",
       "      <td>0</td>\n",
       "      <td>40</td>\n",
       "      <td>United-States</td>\n",
       "      <td>&lt;=50K</td>\n",
       "    </tr>\n",
       "    <tr>\n",
       "      <th>1</th>\n",
       "      <td>50</td>\n",
       "      <td>Self-emp-not-inc</td>\n",
       "      <td>83311</td>\n",
       "      <td>Bachelors</td>\n",
       "      <td>13</td>\n",
       "      <td>Married-civ-spouse</td>\n",
       "      <td>Exec-managerial</td>\n",
       "      <td>Husband</td>\n",
       "      <td>White</td>\n",
       "      <td>Male</td>\n",
       "      <td>0</td>\n",
       "      <td>0</td>\n",
       "      <td>13</td>\n",
       "      <td>United-States</td>\n",
       "      <td>&lt;=50K</td>\n",
       "    </tr>\n",
       "    <tr>\n",
       "      <th>2</th>\n",
       "      <td>38</td>\n",
       "      <td>Private</td>\n",
       "      <td>215646</td>\n",
       "      <td>HS-grad</td>\n",
       "      <td>9</td>\n",
       "      <td>Divorced</td>\n",
       "      <td>Handlers-cleaners</td>\n",
       "      <td>Not-in-family</td>\n",
       "      <td>White</td>\n",
       "      <td>Male</td>\n",
       "      <td>0</td>\n",
       "      <td>0</td>\n",
       "      <td>40</td>\n",
       "      <td>United-States</td>\n",
       "      <td>&lt;=50K</td>\n",
       "    </tr>\n",
       "    <tr>\n",
       "      <th>3</th>\n",
       "      <td>53</td>\n",
       "      <td>Private</td>\n",
       "      <td>234721</td>\n",
       "      <td>11th</td>\n",
       "      <td>7</td>\n",
       "      <td>Married-civ-spouse</td>\n",
       "      <td>Handlers-cleaners</td>\n",
       "      <td>Husband</td>\n",
       "      <td>Black</td>\n",
       "      <td>Male</td>\n",
       "      <td>0</td>\n",
       "      <td>0</td>\n",
       "      <td>40</td>\n",
       "      <td>United-States</td>\n",
       "      <td>&lt;=50K</td>\n",
       "    </tr>\n",
       "    <tr>\n",
       "      <th>4</th>\n",
       "      <td>28</td>\n",
       "      <td>Private</td>\n",
       "      <td>338409</td>\n",
       "      <td>Bachelors</td>\n",
       "      <td>13</td>\n",
       "      <td>Married-civ-spouse</td>\n",
       "      <td>Prof-specialty</td>\n",
       "      <td>Wife</td>\n",
       "      <td>Black</td>\n",
       "      <td>Female</td>\n",
       "      <td>0</td>\n",
       "      <td>0</td>\n",
       "      <td>40</td>\n",
       "      <td>Cuba</td>\n",
       "      <td>&lt;=50K</td>\n",
       "    </tr>\n",
       "  </tbody>\n",
       "</table>\n",
       "</div>"
      ],
      "text/plain": [
       "   0                  1       2           3   4                    5   \\\n",
       "0  39          State-gov   77516   Bachelors  13        Never-married   \n",
       "1  50   Self-emp-not-inc   83311   Bachelors  13   Married-civ-spouse   \n",
       "2  38            Private  215646     HS-grad   9             Divorced   \n",
       "3  53            Private  234721        11th   7   Married-civ-spouse   \n",
       "4  28            Private  338409   Bachelors  13   Married-civ-spouse   \n",
       "\n",
       "                   6               7       8        9     10  11  12  \\\n",
       "0        Adm-clerical   Not-in-family   White     Male  2174   0  40   \n",
       "1     Exec-managerial         Husband   White     Male     0   0  13   \n",
       "2   Handlers-cleaners   Not-in-family   White     Male     0   0  40   \n",
       "3   Handlers-cleaners         Husband   Black     Male     0   0  40   \n",
       "4      Prof-specialty            Wife   Black   Female     0   0  40   \n",
       "\n",
       "               13      14  \n",
       "0   United-States   <=50K  \n",
       "1   United-States   <=50K  \n",
       "2   United-States   <=50K  \n",
       "3   United-States   <=50K  \n",
       "4            Cuba   <=50K  "
      ]
     },
     "execution_count": 3,
     "metadata": {},
     "output_type": "execute_result"
    }
   ],
   "source": [
    "train_set.head()"
   ]
  },
  {
   "cell_type": "code",
   "execution_count": 4,
   "id": "c0ce68f4-f7ea-4d73-b449-824b1c026cd0",
   "metadata": {},
   "outputs": [
    {
     "data": {
      "text/html": [
       "<div>\n",
       "<style scoped>\n",
       "    .dataframe tbody tr th:only-of-type {\n",
       "        vertical-align: middle;\n",
       "    }\n",
       "\n",
       "    .dataframe tbody tr th {\n",
       "        vertical-align: top;\n",
       "    }\n",
       "\n",
       "    .dataframe thead th {\n",
       "        text-align: right;\n",
       "    }\n",
       "</style>\n",
       "<table border=\"1\" class=\"dataframe\">\n",
       "  <thead>\n",
       "    <tr style=\"text-align: right;\">\n",
       "      <th></th>\n",
       "      <th>0</th>\n",
       "      <th>1</th>\n",
       "      <th>2</th>\n",
       "      <th>3</th>\n",
       "      <th>4</th>\n",
       "      <th>5</th>\n",
       "      <th>6</th>\n",
       "      <th>7</th>\n",
       "      <th>8</th>\n",
       "      <th>9</th>\n",
       "      <th>10</th>\n",
       "      <th>11</th>\n",
       "      <th>12</th>\n",
       "      <th>13</th>\n",
       "      <th>14</th>\n",
       "    </tr>\n",
       "  </thead>\n",
       "  <tbody>\n",
       "    <tr>\n",
       "      <th>0</th>\n",
       "      <td>25</td>\n",
       "      <td>Private</td>\n",
       "      <td>226802</td>\n",
       "      <td>11th</td>\n",
       "      <td>7</td>\n",
       "      <td>Never-married</td>\n",
       "      <td>Machine-op-inspct</td>\n",
       "      <td>Own-child</td>\n",
       "      <td>Black</td>\n",
       "      <td>Male</td>\n",
       "      <td>0</td>\n",
       "      <td>0</td>\n",
       "      <td>40</td>\n",
       "      <td>United-States</td>\n",
       "      <td>&lt;=50K.</td>\n",
       "    </tr>\n",
       "    <tr>\n",
       "      <th>1</th>\n",
       "      <td>38</td>\n",
       "      <td>Private</td>\n",
       "      <td>89814</td>\n",
       "      <td>HS-grad</td>\n",
       "      <td>9</td>\n",
       "      <td>Married-civ-spouse</td>\n",
       "      <td>Farming-fishing</td>\n",
       "      <td>Husband</td>\n",
       "      <td>White</td>\n",
       "      <td>Male</td>\n",
       "      <td>0</td>\n",
       "      <td>0</td>\n",
       "      <td>50</td>\n",
       "      <td>United-States</td>\n",
       "      <td>&lt;=50K.</td>\n",
       "    </tr>\n",
       "    <tr>\n",
       "      <th>2</th>\n",
       "      <td>28</td>\n",
       "      <td>Local-gov</td>\n",
       "      <td>336951</td>\n",
       "      <td>Assoc-acdm</td>\n",
       "      <td>12</td>\n",
       "      <td>Married-civ-spouse</td>\n",
       "      <td>Protective-serv</td>\n",
       "      <td>Husband</td>\n",
       "      <td>White</td>\n",
       "      <td>Male</td>\n",
       "      <td>0</td>\n",
       "      <td>0</td>\n",
       "      <td>40</td>\n",
       "      <td>United-States</td>\n",
       "      <td>&gt;50K.</td>\n",
       "    </tr>\n",
       "    <tr>\n",
       "      <th>3</th>\n",
       "      <td>44</td>\n",
       "      <td>Private</td>\n",
       "      <td>160323</td>\n",
       "      <td>Some-college</td>\n",
       "      <td>10</td>\n",
       "      <td>Married-civ-spouse</td>\n",
       "      <td>Machine-op-inspct</td>\n",
       "      <td>Husband</td>\n",
       "      <td>Black</td>\n",
       "      <td>Male</td>\n",
       "      <td>7688</td>\n",
       "      <td>0</td>\n",
       "      <td>40</td>\n",
       "      <td>United-States</td>\n",
       "      <td>&gt;50K.</td>\n",
       "    </tr>\n",
       "    <tr>\n",
       "      <th>4</th>\n",
       "      <td>18</td>\n",
       "      <td>?</td>\n",
       "      <td>103497</td>\n",
       "      <td>Some-college</td>\n",
       "      <td>10</td>\n",
       "      <td>Never-married</td>\n",
       "      <td>?</td>\n",
       "      <td>Own-child</td>\n",
       "      <td>White</td>\n",
       "      <td>Female</td>\n",
       "      <td>0</td>\n",
       "      <td>0</td>\n",
       "      <td>30</td>\n",
       "      <td>United-States</td>\n",
       "      <td>&lt;=50K.</td>\n",
       "    </tr>\n",
       "  </tbody>\n",
       "</table>\n",
       "</div>"
      ],
      "text/plain": [
       "   0           1       2              3   4                    5   \\\n",
       "0  25     Private  226802           11th   7        Never-married   \n",
       "1  38     Private   89814        HS-grad   9   Married-civ-spouse   \n",
       "2  28   Local-gov  336951     Assoc-acdm  12   Married-civ-spouse   \n",
       "3  44     Private  160323   Some-college  10   Married-civ-spouse   \n",
       "4  18           ?  103497   Some-college  10        Never-married   \n",
       "\n",
       "                   6           7       8        9     10  11  12  \\\n",
       "0   Machine-op-inspct   Own-child   Black     Male     0   0  40   \n",
       "1     Farming-fishing     Husband   White     Male     0   0  50   \n",
       "2     Protective-serv     Husband   White     Male     0   0  40   \n",
       "3   Machine-op-inspct     Husband   Black     Male  7688   0  40   \n",
       "4                   ?   Own-child   White   Female     0   0  30   \n",
       "\n",
       "               13       14  \n",
       "0   United-States   <=50K.  \n",
       "1   United-States   <=50K.  \n",
       "2   United-States    >50K.  \n",
       "3   United-States    >50K.  \n",
       "4   United-States   <=50K.  "
      ]
     },
     "execution_count": 4,
     "metadata": {},
     "output_type": "execute_result"
    }
   ],
   "source": [
    "test_set.head()"
   ]
  },
  {
   "cell_type": "markdown",
   "id": "19a663d7-ab83-4da3-a91a-a025d3677a74",
   "metadata": {},
   "source": [
    "# 2. Data Preprocessing"
   ]
  },
  {
   "cell_type": "markdown",
   "id": "0b01a1de-5d3e-4f60-a414-f17aadabe558",
   "metadata": {},
   "source": [
    "I notice a few problems immediately:\n",
    "\n",
    "- We don't have a column header for our data\n",
    "- There are unknown values in our test set (the question marks) that we need to deal with\n",
    "- The target values have periods at the end in the test set but do not in the training set (\"<=50K.\" != \"<=50K\")"
   ]
  },
  {
   "cell_type": "markdown",
   "id": "f750622c-d46f-4aa5-8e26-5978ef565488",
   "metadata": {},
   "source": [
    "In the dataset description, we can see the column names."
   ]
  },
  {
   "cell_type": "code",
   "execution_count": 5,
   "id": "c24bf4eb-21b4-46e4-92c0-db55e0ad568e",
   "metadata": {},
   "outputs": [],
   "source": [
    "col_labels = ['age', 'workclass', 'fnlwgt', 'education', 'education_num', 'marital_status', 'occupation', \n",
    "              'relationship', 'race', 'sex', 'capital_gain', 'capital_loss', 'hours_per_week', 'native_country',\n",
    "             'wage_class']"
   ]
  },
  {
   "cell_type": "code",
   "execution_count": 6,
   "id": "1a417703-3e75-4a77-a03b-b368fd808097",
   "metadata": {},
   "outputs": [],
   "source": [
    "train_set.columns = col_labels\n",
    "test_set.columns = col_labels"
   ]
  },
  {
   "cell_type": "code",
   "execution_count": 7,
   "id": "adf5929f-d2fa-44f2-88ad-5750594784fa",
   "metadata": {},
   "outputs": [
    {
     "name": "stdout",
     "output_type": "stream",
     "text": [
      "<class 'pandas.core.frame.DataFrame'>\n",
      "RangeIndex: 32561 entries, 0 to 32560\n",
      "Data columns (total 15 columns):\n",
      " #   Column          Non-Null Count  Dtype \n",
      "---  ------          --------------  ----- \n",
      " 0   age             32561 non-null  int64 \n",
      " 1   workclass       32561 non-null  object\n",
      " 2   fnlwgt          32561 non-null  int64 \n",
      " 3   education       32561 non-null  object\n",
      " 4   education_num   32561 non-null  int64 \n",
      " 5   marital_status  32561 non-null  object\n",
      " 6   occupation      32561 non-null  object\n",
      " 7   relationship    32561 non-null  object\n",
      " 8   race            32561 non-null  object\n",
      " 9   sex             32561 non-null  object\n",
      " 10  capital_gain    32561 non-null  int64 \n",
      " 11  capital_loss    32561 non-null  int64 \n",
      " 12  hours_per_week  32561 non-null  int64 \n",
      " 13  native_country  32561 non-null  object\n",
      " 14  wage_class      32561 non-null  object\n",
      "dtypes: int64(6), object(9)\n",
      "memory usage: 3.7+ MB\n"
     ]
    }
   ],
   "source": [
    "train_set.info()"
   ]
  },
  {
   "cell_type": "code",
   "execution_count": 8,
   "id": "13b8508b-c11e-4318-8549-642fd8f14d6b",
   "metadata": {},
   "outputs": [
    {
     "name": "stdout",
     "output_type": "stream",
     "text": [
      "<class 'pandas.core.frame.DataFrame'>\n",
      "RangeIndex: 16281 entries, 0 to 16280\n",
      "Data columns (total 15 columns):\n",
      " #   Column          Non-Null Count  Dtype \n",
      "---  ------          --------------  ----- \n",
      " 0   age             16281 non-null  int64 \n",
      " 1   workclass       16281 non-null  object\n",
      " 2   fnlwgt          16281 non-null  int64 \n",
      " 3   education       16281 non-null  object\n",
      " 4   education_num   16281 non-null  int64 \n",
      " 5   marital_status  16281 non-null  object\n",
      " 6   occupation      16281 non-null  object\n",
      " 7   relationship    16281 non-null  object\n",
      " 8   race            16281 non-null  object\n",
      " 9   sex             16281 non-null  object\n",
      " 10  capital_gain    16281 non-null  int64 \n",
      " 11  capital_loss    16281 non-null  int64 \n",
      " 12  hours_per_week  16281 non-null  int64 \n",
      " 13  native_country  16281 non-null  object\n",
      " 14  wage_class      16281 non-null  object\n",
      "dtypes: int64(6), object(9)\n",
      "memory usage: 1.9+ MB\n"
     ]
    }
   ],
   "source": [
    "test_set.info()"
   ]
  },
  {
   "cell_type": "markdown",
   "id": "b41a807b-c416-4c4a-99aa-d6371c5de156",
   "metadata": {},
   "source": [
    "Hmm. There don't seem to be any. According to the accompanying notes, the original datasets had 32561 in train and 16281 with test. However, unknowns are included and have been labeled with a question mark (?). The test results documented were done after removing all unknowns. Therefore, to see if we can beat their best results, we need to remove the same unknown rows. \n",
    "\n",
    "If we do so, we should have 30162 in train and 15060 in test. Let's see if we can remove all of these unknown rows. \n",
    "\n",
    "It turns out the question mark was actually entered with a space first. Let's do a simple test to see what would happen if we dropped all rows that contain an unknown marked with a ' ?'."
   ]
  },
  {
   "cell_type": "code",
   "execution_count": 9,
   "id": "c63f8be6-683d-4a1b-9c5c-e1fb907dc5a4",
   "metadata": {},
   "outputs": [
    {
     "data": {
      "text/plain": [
       "(30162, 15)"
      ]
     },
     "execution_count": 9,
     "metadata": {},
     "output_type": "execute_result"
    }
   ],
   "source": [
    "train_set.replace(' ?', np.nan).dropna().shape"
   ]
  },
  {
   "cell_type": "code",
   "execution_count": 10,
   "id": "24060eb1-35b1-4d19-973e-f698ec06b544",
   "metadata": {},
   "outputs": [
    {
     "data": {
      "text/plain": [
       "(15060, 15)"
      ]
     },
     "execution_count": 10,
     "metadata": {},
     "output_type": "execute_result"
    }
   ],
   "source": [
    "test_set.replace(' ?', np.nan).dropna().shape"
   ]
  },
  {
   "cell_type": "code",
   "execution_count": 11,
   "id": "03cfaa62-22a7-414b-93df-a90fc9273a84",
   "metadata": {},
   "outputs": [],
   "source": [
    "train_nomissing = train_set.replace(' ?', np.nan).dropna()\n",
    "test_nomissing = test_set.replace(' ?', np.nan).dropna()"
   ]
  },
  {
   "cell_type": "markdown",
   "id": "0a8a8a43-269b-430f-8e71-6c3dc67341ca",
   "metadata": {},
   "source": [
    "Now that we have taken care of the missing value problem, we still have an issue with the target income thresholds being encoded slightly differently in test vs. train. We need these to match up appropriately, so we are going to need to fix either the test or training set to make them match up. Let's replace all of the '<=50K.' with '<=50K' and the same for '>50K.' with '>50K'. This is also encoded with a space so include this in the string. We can use the replace method from pandas to fix this. "
   ]
  },
  {
   "cell_type": "code",
   "execution_count": 12,
   "id": "651df1de-5416-4681-8f87-8a66df1b6c5f",
   "metadata": {},
   "outputs": [],
   "source": [
    "test_nomissing['wage_class'] = test_nomissing.wage_class.replace({' <=50K.': ' <=50K', ' >50K.':' >50K'})"
   ]
  },
  {
   "cell_type": "markdown",
   "id": "5e9091ec-18fa-4aab-8039-11da572d3d50",
   "metadata": {},
   "source": [
    "#### Ordinal Encoder or One-Hot Encoder ?"
   ]
  },
  {
   "cell_type": "markdown",
   "id": "20c39108-e5cc-4158-affe-0fdc7047dfc0",
   "metadata": {},
   "source": [
    "Our next step is to encode the features with a string category since XGBoost (like all of the other machine learning algorithms in Python) requires every feature vector to include only digits. To do this properly, however, we will need to join the two together and apply our encoding so that the same categories exist in both datasets when we do train/test evaluation. \n",
    "\n",
    "There is some debate as to whether you are technically supposed to use one-hot encoding for categorical features (since there isn't supposed to be any inherent ordering) or you can use ordinal encoder. My master's Machine Learning teacher Han found [this discussion](https://github.com/szilard/benchm-ml/issues/1) on the subject, that I found really interesting. It seems that one-hot encoding isn't necessary for tree-based algorithms, but you may run into a problem using this on linear models. Let's test them both and see it for ourselves!\n"
   ]
  },
  {
   "cell_type": "code",
   "execution_count": 13,
   "id": "6572cb25-89b9-4fae-a225-72584463e563",
   "metadata": {},
   "outputs": [],
   "source": [
    "data = pd.concat([train_nomissing, test_nomissing], axis = 0) # Stacks them vertically"
   ]
  },
  {
   "cell_type": "code",
   "execution_count": 14,
   "id": "d77d6890-8bd2-47d6-8015-630f81b92edb",
   "metadata": {},
   "outputs": [
    {
     "name": "stdout",
     "output_type": "stream",
     "text": [
      "<class 'pandas.core.frame.DataFrame'>\n",
      "Index: 45222 entries, 0 to 16280\n",
      "Data columns (total 15 columns):\n",
      " #   Column          Non-Null Count  Dtype \n",
      "---  ------          --------------  ----- \n",
      " 0   age             45222 non-null  int64 \n",
      " 1   workclass       45222 non-null  object\n",
      " 2   fnlwgt          45222 non-null  int64 \n",
      " 3   education       45222 non-null  object\n",
      " 4   education_num   45222 non-null  int64 \n",
      " 5   marital_status  45222 non-null  object\n",
      " 6   occupation      45222 non-null  object\n",
      " 7   relationship    45222 non-null  object\n",
      " 8   race            45222 non-null  object\n",
      " 9   sex             45222 non-null  object\n",
      " 10  capital_gain    45222 non-null  int64 \n",
      " 11  capital_loss    45222 non-null  int64 \n",
      " 12  hours_per_week  45222 non-null  int64 \n",
      " 13  native_country  45222 non-null  object\n",
      " 14  wage_class      45222 non-null  object\n",
      "dtypes: int64(6), object(9)\n",
      "memory usage: 5.5+ MB\n"
     ]
    }
   ],
   "source": [
    "data.info()"
   ]
  },
  {
   "cell_type": "code",
   "execution_count": 15,
   "id": "bc7dbe8b-48c3-4555-abce-8f3930df7a7b",
   "metadata": {},
   "outputs": [],
   "source": [
    "# We ransform 'wage_class' column into binary to be our target and drop the non binary column\n",
    "data['wage_class_binary'] = data['wage_class'].apply(lambda x: 1 if x == ' >50K' else 0)\n",
    "data = data.drop(columns='wage_class')"
   ]
  },
  {
   "cell_type": "code",
   "execution_count": 16,
   "id": "245ff5b1-092f-404d-99c4-46f43c006ce4",
   "metadata": {},
   "outputs": [],
   "source": [
    "X = data.drop(columns='wage_class_binary')\n",
    "y = data['wage_class_binary']"
   ]
  },
  {
   "cell_type": "markdown",
   "id": "61696363-c643-41a2-9d3a-9e2c8f8d39e7",
   "metadata": {},
   "source": [
    "We will be using a pipeline code I developed has a template and just do the necessary minor changes "
   ]
  },
  {
   "cell_type": "code",
   "execution_count": 17,
   "id": "86ecd422-7526-4ac3-813d-c576172591cc",
   "metadata": {},
   "outputs": [],
   "source": [
    "from sklearn.preprocessing import OneHotEncoder, OrdinalEncoder\n",
    "from sklearn.compose import ColumnTransformer\n",
    "from sklearn.pipeline import Pipeline"
   ]
  },
  {
   "cell_type": "markdown",
   "id": "38d7d0cd-24d8-43f6-b838-a6b36341a903",
   "metadata": {},
   "source": [
    "#### Ordinal Encoder"
   ]
  },
  {
   "cell_type": "code",
   "execution_count": 18,
   "id": "ae67ca0b-c4be-4786-8d2b-5568bf8fc8cf",
   "metadata": {},
   "outputs": [],
   "source": [
    "### PIPELINE ###\n",
    "\n",
    "# Standard Scaler is not needed because:\n",
    "# Tree-based models (like decision trees, random forests, and gradient boosting) are generally invariant to feature scaling.\n",
    "# XGBoost's underlying decision trees can handle unscaled data effectively without performance loss.\n",
    "\n",
    "# Simple Imputer is not needed because:\n",
    "# XGBoost automatically learns the best way to handle missing values while building trees.\n",
    "\n",
    "numerical_features = [\n",
    "    'age',\n",
    "    'fnlwgt',\n",
    "    'education_num',\n",
    "    'capital_gain',\n",
    "    'capital_loss',\n",
    "    'hours_per_week',\n",
    "]\n",
    "\n",
    "categorical_features = [\n",
    "    'workclass',\n",
    "    'education',\n",
    "    'marital_status',\n",
    "    'occupation', \n",
    "    'relationship',\n",
    "    'race',\n",
    "    'sex',\n",
    "    'native_country'\n",
    "]\n",
    "\n",
    "preprocessor = ColumnTransformer(\n",
    "    transformers=[\n",
    "        # ('num', Pipeline(steps=[\n",
    "            # ('imputer', SimpleImputer(strategy='mean')),\n",
    "            # ('scaler', StandardScaler())\n",
    "        # ]), numerical_features),\n",
    "        ('cat', Pipeline(steps=[\n",
    "            # ('imputer', SimpleImputer(strategy='most_frequent')),\n",
    "            ('encoder', OrdinalEncoder())\n",
    "        ]), categorical_features)\n",
    "    ])\n",
    "\n",
    "X_categorical = X.copy()\n",
    "X_categorical[categorical_features] = X_categorical[categorical_features].astype('category')\n",
    "\n",
    "pipeline = Pipeline(steps=[('preprocessor', preprocessor)])\n",
    "\n",
    "X_ordinal = pipeline.fit_transform(X_categorical)"
   ]
  },
  {
   "cell_type": "markdown",
   "id": "a104bcb9-74c4-49d8-b9f0-ced3d757bf08",
   "metadata": {},
   "source": [
    "#### One-Hot Encoder"
   ]
  },
  {
   "cell_type": "code",
   "execution_count": 19,
   "id": "3ff9ef42-9c6d-4c0b-ac61-01b331002edd",
   "metadata": {},
   "outputs": [],
   "source": [
    "### PIPELINE ###\n",
    "\n",
    "# Standard Scaler is not needed because:\n",
    "# Tree-based models (like decision trees, random forests, and gradient boosting) are generally invariant to feature scaling.\n",
    "# XGBoost's underlying decision trees can handle unscaled data effectively without performance loss.\n",
    "\n",
    "# Simple Imputer is not needed because:\n",
    "# XGBoost automatically learns the best way to handle missing values while building trees.\n",
    "\n",
    "numerical_features = [\n",
    "    'age',\n",
    "    'fnlwgt',\n",
    "    'education_num',\n",
    "    'capital_gain',\n",
    "    'capital_loss',\n",
    "    'hours_per_week',\n",
    "]\n",
    "\n",
    "categorical_features = [\n",
    "    'workclass',\n",
    "    'education',\n",
    "    'marital_status',\n",
    "    'occupation', \n",
    "    'relationship',\n",
    "    'race',\n",
    "    'sex',\n",
    "    'native_country'\n",
    "]\n",
    "\n",
    "preprocessor = ColumnTransformer(\n",
    "    transformers=[\n",
    "        # ('num', Pipeline(steps=[\n",
    "            # ('imputer', SimpleImputer(strategy='mean')),\n",
    "            # ('scaler', StandardScaler())\n",
    "        # ]), numerical_features),\n",
    "        ('cat', Pipeline(steps=[\n",
    "            # ('imputer', SimpleImputer(strategy='most_frequent')),\n",
    "            ('encoder', OneHotEncoder(handle_unknown='ignore'))\n",
    "        ]), categorical_features)\n",
    "    ])\n",
    "\n",
    "pipeline = Pipeline(steps=[('preprocessor', preprocessor)])\n",
    "\n",
    "X_one_hot = pipeline.fit_transform(X)"
   ]
  },
  {
   "cell_type": "code",
   "execution_count": 20,
   "id": "0a49e87c-2854-4db8-b52b-e7180dc9f75a",
   "metadata": {},
   "outputs": [],
   "source": [
    "# Usually we would use train_test_split but in this case we can use the shape of the train & test sets \n",
    "# from before to keep the same rows in each set and be true to the exercise. Not that anybody cares.\n",
    "\n",
    "# X = data.drop(columns='wage_class_binary')\n",
    "# y = data['wage_class_binary']\n",
    "\n",
    "# X_train, X_test, y_train, y_test = train_test_split(processed_data, y, test_size=0.2, random_state=42, stratify=y)\n",
    "\n",
    "X_one_hot_train = X_one_hot[:train_nomissing.shape[0]] # Up to the last initial training set row\n",
    "X_ordinal_train = X_ordinal[:train_nomissing.shape[0]] # Up to the last initial training set row\n",
    "y_train = y[:train_nomissing.shape[0]] # Up to the last initial training set row\n",
    "\n",
    "X_one_hot_test = X_one_hot[train_nomissing.shape[0]:] # Up to the last initial training set row\n",
    "X_ordinal_test = X_ordinal[train_nomissing.shape[0]:] # Up to the last initial training set row\n",
    "y_test = y[train_nomissing.shape[0]:]# Up to the last initial training set row\n"
   ]
  },
  {
   "cell_type": "markdown",
   "id": "494267c5-ea73-423e-abfb-48a3cea456eb",
   "metadata": {},
   "source": [
    "# 3. Model Training"
   ]
  },
  {
   "cell_type": "markdown",
   "id": "4cd50b99-2ba4-40d5-afb9-51c61deb42ac",
   "metadata": {},
   "source": [
    "First of all lets check y to see if we are dealing with class imbalance or not."
   ]
  },
  {
   "cell_type": "code",
   "execution_count": 21,
   "id": "c33cc279-265a-4113-ad28-c28e1dbd1a72",
   "metadata": {},
   "outputs": [
    {
     "data": {
      "text/plain": [
       "wage_class_binary\n",
       "0    22654\n",
       "1     7508\n",
       "Name: count, dtype: int64"
      ]
     },
     "execution_count": 21,
     "metadata": {},
     "output_type": "execute_result"
    }
   ],
   "source": [
    "y_train.value_counts(dropna=False)"
   ]
  },
  {
   "cell_type": "markdown",
   "id": "2a5603b2-e4cd-4cda-8ae3-7c2d625de90b",
   "metadata": {},
   "source": [
    "We do have some class imbalance, we should take note and take it into account when defining our model"
   ]
  },
  {
   "cell_type": "code",
   "execution_count": 22,
   "id": "58599483-cfa3-46c7-8d01-b5387c8c44b9",
   "metadata": {},
   "outputs": [],
   "source": [
    "import numpy as np\n",
    "import xgboost as xgb\n",
    "from sklearn.metrics import (precision_recall_curve, confusion_matrix, \n",
    "                             classification_report, roc_auc_score, \n",
    "                             average_precision_score)\n",
    "import matplotlib.pyplot as plt\n",
    "import seaborn as sns\n",
    "import time"
   ]
  },
  {
   "cell_type": "code",
   "execution_count": 23,
   "id": "16902fbc-b3f1-4981-ba67-ce30bf4d14c9",
   "metadata": {},
   "outputs": [],
   "source": [
    "def custom_grid_search_cv_xgb(X_train, y_train, X_test, y_test):\n",
    "    # This method of grid search enables us to use the cv function of xgb package to handle early stopping \n",
    "    # while at the same time tuning the hyperparameters of the model\n",
    "\n",
    "    start_time = time.time()\n",
    "    scale_pos_weight = np.sum(y_train == 0) / np.sum(y_train == 1)\n",
    "\n",
    "    # Convert data to DMatrix: optimize both memory efficiency and computational speed\n",
    "    dtrain = xgb.DMatrix(X_train, label=y_train)\n",
    "    dtest = xgb.DMatrix(X_test, label=y_test)\n",
    "\n",
    "    # Define ranges for hyperparameter tuning\n",
    "    param_grid = {\n",
    "        'max_depth': [3, 5, 7],\n",
    "        'learning_rate': [0.01, 0.1, 0.2],\n",
    "        'subsample': [0.6, 0.8, 1.0],\n",
    "        'colsample_bytree': [0.6, 0.8, 1.0]\n",
    "    }\n",
    "\n",
    "    # Variables to track the best score and parameters\n",
    "    best_params = None\n",
    "    best_aucpr = 0\n",
    "\n",
    "    # Loop through all combinations of hyperparameters\n",
    "    for max_depth in param_grid['max_depth']:\n",
    "        for learning_rate in param_grid['learning_rate']:\n",
    "            for subsample in param_grid['subsample']:\n",
    "                for colsample_bytree in param_grid['colsample_bytree']:\n",
    "                    params = {\n",
    "                        'objective': 'binary:logistic',\n",
    "                        'eval_metric': 'aucpr',\n",
    "                        'scale_pos_weight': scale_pos_weight,\n",
    "                        'max_depth': max_depth,\n",
    "                        'eta': learning_rate,\n",
    "                        'subsample': subsample,\n",
    "                        'colsample_bytree': colsample_bytree,\n",
    "                        'random_state': 42\n",
    "                    }\n",
    "\n",
    "                    # Cross-validation \n",
    "                    cv_results = xgb.cv(\n",
    "                        params,\n",
    "                        dtrain,\n",
    "                        num_boost_round=1000, # number of boosting rounds aka trees to build\n",
    "                        nfold=3,\n",
    "                        early_stopping_rounds=10, # Validation metric needs to improve at least once in every \n",
    "                                                    # early_stopping_rounds round(s) to continue training\n",
    "                                                    # Overfitting prevention *\n",
    "                        metrics='aucpr', # given the slight class imbalance and the nature of the problem \n",
    "                                        # I believe a good metric to judge the quality of our model\n",
    "                        as_pandas=True,\n",
    "                        seed=42,\n",
    "                        verbose_eval=False\n",
    "                    )\n",
    "\n",
    "                    # Get the best score for the current combination of hyperparameters\n",
    "                    mean_aucpr = cv_results['test-aucpr-mean'].max()\n",
    "                    boost_rounds = cv_results['test-aucpr-mean'].idxmax()\n",
    "\n",
    "                    if mean_aucpr > best_aucpr:\n",
    "                        best_aucpr = mean_aucpr\n",
    "                        best_params = params\n",
    "                        best_boost_rounds = boost_rounds\n",
    "\n",
    "                    print(f\"Test AUC-PR Mean: {mean_aucpr}, Boost Rounds: {boost_rounds}, Params: {params}\")\n",
    "\n",
    "    final_model = xgb.train(\n",
    "        best_params,\n",
    "        dtrain,\n",
    "        num_boost_round=best_boost_rounds\n",
    "    )\n",
    "\n",
    "    y_pred_prob = final_model.predict(dtest)\n",
    "    \n",
    "    # Optimize threshold based on Precision-Recall curve\n",
    "    precisions, recalls, thresholds = precision_recall_curve(y_test, y_pred_prob)\n",
    "    optimal_idx = np.argmax(precisions + recalls)\n",
    "    optimal_threshold = thresholds[optimal_idx]\n",
    "\n",
    "    y_pred_optimal = (y_pred_prob >= optimal_threshold).astype(int)\n",
    "\n",
    "    # Confusion Matrix\n",
    "    cm_rf = confusion_matrix(y_test, y_pred_optimal)\n",
    "    class_names = ['Class 0', 'Class 1']\n",
    "    plt.figure(figsize=(8, 6))\n",
    "    sns.heatmap(cm_rf, annot=True, fmt='d', cmap='Blues', xticklabels=class_names, yticklabels=class_names)\n",
    "    plt.xlabel('Predicted Label')\n",
    "    plt.ylabel('True Label')\n",
    "    plt.title('Confusion Matrix - XGBoost')\n",
    "    plt.show()\n",
    "\n",
    "    # Classification report and ROC\n",
    "    print('Classification Report:')\n",
    "    print(classification_report(y_test, y_pred_optimal))\n",
    "\n",
    "    roc_auc = roc_auc_score(y_test, y_pred_prob)\n",
    "    print('ROC-AUC Score:')\n",
    "    print(roc_auc)\n",
    "\n",
    "    pr_auc = average_precision_score(y_test, y_pred_prob)\n",
    "    print('PR AUC Score:')\n",
    "    print(pr_auc)\n",
    "\n",
    "    end_time = time.time()\n",
    "    elapsed_time = end_time - start_time\n",
    "    print(f\"Total time taken: {elapsed_time:.2f} seconds\")\n",
    "\n",
    "    return final_model\n",
    "\n"
   ]
  },
  {
   "cell_type": "code",
   "execution_count": 24,
   "id": "3ffb28cd-40fc-453b-b5a8-bd1a0dbcbdd4",
   "metadata": {},
   "outputs": [
    {
     "name": "stdout",
     "output_type": "stream",
     "text": [
      "Test AUC-PR Mean: 0.6035044304441223, Boost Rounds: 6, Params: {'objective': 'binary:logistic', 'eval_metric': 'aucpr', 'scale_pos_weight': 3.017314864144912, 'max_depth': 3, 'eta': 0.01, 'subsample': 0.6, 'colsample_bytree': 0.6, 'random_state': 42}\n",
      "Test AUC-PR Mean: 0.5880390126471676, Boost Rounds: 3, Params: {'objective': 'binary:logistic', 'eval_metric': 'aucpr', 'scale_pos_weight': 3.017314864144912, 'max_depth': 3, 'eta': 0.01, 'subsample': 0.6, 'colsample_bytree': 0.8, 'random_state': 42}\n",
      "Test AUC-PR Mean: 0.6856513054305116, Boost Rounds: 568, Params: {'objective': 'binary:logistic', 'eval_metric': 'aucpr', 'scale_pos_weight': 3.017314864144912, 'max_depth': 3, 'eta': 0.01, 'subsample': 0.6, 'colsample_bytree': 1.0, 'random_state': 42}\n",
      "Test AUC-PR Mean: 0.6049494192654149, Boost Rounds: 6, Params: {'objective': 'binary:logistic', 'eval_metric': 'aucpr', 'scale_pos_weight': 3.017314864144912, 'max_depth': 3, 'eta': 0.01, 'subsample': 0.8, 'colsample_bytree': 0.6, 'random_state': 42}\n",
      "Test AUC-PR Mean: 0.5933208507266983, Boost Rounds: 35, Params: {'objective': 'binary:logistic', 'eval_metric': 'aucpr', 'scale_pos_weight': 3.017314864144912, 'max_depth': 3, 'eta': 0.01, 'subsample': 0.8, 'colsample_bytree': 0.8, 'random_state': 42}\n",
      "Test AUC-PR Mean: 0.6834004003024451, Boost Rounds: 489, Params: {'objective': 'binary:logistic', 'eval_metric': 'aucpr', 'scale_pos_weight': 3.017314864144912, 'max_depth': 3, 'eta': 0.01, 'subsample': 0.8, 'colsample_bytree': 1.0, 'random_state': 42}\n",
      "Test AUC-PR Mean: 0.6117360670989668, Boost Rounds: 30, Params: {'objective': 'binary:logistic', 'eval_metric': 'aucpr', 'scale_pos_weight': 3.017314864144912, 'max_depth': 3, 'eta': 0.01, 'subsample': 1.0, 'colsample_bytree': 0.6, 'random_state': 42}\n",
      "Test AUC-PR Mean: 0.5852021371280153, Boost Rounds: 5, Params: {'objective': 'binary:logistic', 'eval_metric': 'aucpr', 'scale_pos_weight': 3.017314864144912, 'max_depth': 3, 'eta': 0.01, 'subsample': 1.0, 'colsample_bytree': 0.8, 'random_state': 42}\n",
      "Test AUC-PR Mean: 0.5494487564550573, Boost Rounds: 47, Params: {'objective': 'binary:logistic', 'eval_metric': 'aucpr', 'scale_pos_weight': 3.017314864144912, 'max_depth': 3, 'eta': 0.01, 'subsample': 1.0, 'colsample_bytree': 1.0, 'random_state': 42}\n",
      "Test AUC-PR Mean: 0.6262913848359218, Boost Rounds: 6, Params: {'objective': 'binary:logistic', 'eval_metric': 'aucpr', 'scale_pos_weight': 3.017314864144912, 'max_depth': 3, 'eta': 0.1, 'subsample': 0.6, 'colsample_bytree': 0.6, 'random_state': 42}\n",
      "Test AUC-PR Mean: 0.6915092678266364, Boost Rounds: 119, Params: {'objective': 'binary:logistic', 'eval_metric': 'aucpr', 'scale_pos_weight': 3.017314864144912, 'max_depth': 3, 'eta': 0.1, 'subsample': 0.6, 'colsample_bytree': 0.8, 'random_state': 42}\n",
      "Test AUC-PR Mean: 0.6933912083774466, Boost Rounds: 148, Params: {'objective': 'binary:logistic', 'eval_metric': 'aucpr', 'scale_pos_weight': 3.017314864144912, 'max_depth': 3, 'eta': 0.1, 'subsample': 0.6, 'colsample_bytree': 1.0, 'random_state': 42}\n",
      "Test AUC-PR Mean: 0.6251588263835005, Boost Rounds: 6, Params: {'objective': 'binary:logistic', 'eval_metric': 'aucpr', 'scale_pos_weight': 3.017314864144912, 'max_depth': 3, 'eta': 0.1, 'subsample': 0.8, 'colsample_bytree': 0.6, 'random_state': 42}\n",
      "Test AUC-PR Mean: 0.6926405445026368, Boost Rounds: 106, Params: {'objective': 'binary:logistic', 'eval_metric': 'aucpr', 'scale_pos_weight': 3.017314864144912, 'max_depth': 3, 'eta': 0.1, 'subsample': 0.8, 'colsample_bytree': 0.8, 'random_state': 42}\n",
      "Test AUC-PR Mean: 0.6922618803854608, Boost Rounds: 104, Params: {'objective': 'binary:logistic', 'eval_metric': 'aucpr', 'scale_pos_weight': 3.017314864144912, 'max_depth': 3, 'eta': 0.1, 'subsample': 0.8, 'colsample_bytree': 1.0, 'random_state': 42}\n",
      "Test AUC-PR Mean: 0.6238975410225487, Boost Rounds: 6, Params: {'objective': 'binary:logistic', 'eval_metric': 'aucpr', 'scale_pos_weight': 3.017314864144912, 'max_depth': 3, 'eta': 0.1, 'subsample': 1.0, 'colsample_bytree': 0.6, 'random_state': 42}\n",
      "Test AUC-PR Mean: 0.6932397278104983, Boost Rounds: 154, Params: {'objective': 'binary:logistic', 'eval_metric': 'aucpr', 'scale_pos_weight': 3.017314864144912, 'max_depth': 3, 'eta': 0.1, 'subsample': 1.0, 'colsample_bytree': 0.8, 'random_state': 42}\n",
      "Test AUC-PR Mean: 0.6927569922756335, Boost Rounds: 144, Params: {'objective': 'binary:logistic', 'eval_metric': 'aucpr', 'scale_pos_weight': 3.017314864144912, 'max_depth': 3, 'eta': 0.1, 'subsample': 1.0, 'colsample_bytree': 1.0, 'random_state': 42}\n",
      "Test AUC-PR Mean: 0.6945489654175087, Boost Rounds: 143, Params: {'objective': 'binary:logistic', 'eval_metric': 'aucpr', 'scale_pos_weight': 3.017314864144912, 'max_depth': 3, 'eta': 0.2, 'subsample': 0.6, 'colsample_bytree': 0.6, 'random_state': 42}\n",
      "Test AUC-PR Mean: 0.6942116904881616, Boost Rounds: 68, Params: {'objective': 'binary:logistic', 'eval_metric': 'aucpr', 'scale_pos_weight': 3.017314864144912, 'max_depth': 3, 'eta': 0.2, 'subsample': 0.6, 'colsample_bytree': 0.8, 'random_state': 42}\n",
      "Test AUC-PR Mean: 0.6896842960849515, Boost Rounds: 37, Params: {'objective': 'binary:logistic', 'eval_metric': 'aucpr', 'scale_pos_weight': 3.017314864144912, 'max_depth': 3, 'eta': 0.2, 'subsample': 0.6, 'colsample_bytree': 1.0, 'random_state': 42}\n",
      "Test AUC-PR Mean: 0.6943727423004741, Boost Rounds: 80, Params: {'objective': 'binary:logistic', 'eval_metric': 'aucpr', 'scale_pos_weight': 3.017314864144912, 'max_depth': 3, 'eta': 0.2, 'subsample': 0.8, 'colsample_bytree': 0.6, 'random_state': 42}\n",
      "Test AUC-PR Mean: 0.6948699702311378, Boost Rounds: 78, Params: {'objective': 'binary:logistic', 'eval_metric': 'aucpr', 'scale_pos_weight': 3.017314864144912, 'max_depth': 3, 'eta': 0.2, 'subsample': 0.8, 'colsample_bytree': 0.8, 'random_state': 42}\n",
      "Test AUC-PR Mean: 0.6940264182029768, Boost Rounds: 78, Params: {'objective': 'binary:logistic', 'eval_metric': 'aucpr', 'scale_pos_weight': 3.017314864144912, 'max_depth': 3, 'eta': 0.2, 'subsample': 0.8, 'colsample_bytree': 1.0, 'random_state': 42}\n",
      "Test AUC-PR Mean: 0.6926941132222648, Boost Rounds: 59, Params: {'objective': 'binary:logistic', 'eval_metric': 'aucpr', 'scale_pos_weight': 3.017314864144912, 'max_depth': 3, 'eta': 0.2, 'subsample': 1.0, 'colsample_bytree': 0.6, 'random_state': 42}\n",
      "Test AUC-PR Mean: 0.6929404784119545, Boost Rounds: 76, Params: {'objective': 'binary:logistic', 'eval_metric': 'aucpr', 'scale_pos_weight': 3.017314864144912, 'max_depth': 3, 'eta': 0.2, 'subsample': 1.0, 'colsample_bytree': 0.8, 'random_state': 42}\n",
      "Test AUC-PR Mean: 0.6916041403697809, Boost Rounds: 48, Params: {'objective': 'binary:logistic', 'eval_metric': 'aucpr', 'scale_pos_weight': 3.017314864144912, 'max_depth': 3, 'eta': 0.2, 'subsample': 1.0, 'colsample_bytree': 1.0, 'random_state': 42}\n",
      "Test AUC-PR Mean: 0.6801901492491197, Boost Rounds: 46, Params: {'objective': 'binary:logistic', 'eval_metric': 'aucpr', 'scale_pos_weight': 3.017314864144912, 'max_depth': 5, 'eta': 0.01, 'subsample': 0.6, 'colsample_bytree': 0.6, 'random_state': 42}\n",
      "Test AUC-PR Mean: 0.672760819711479, Boost Rounds: 27, Params: {'objective': 'binary:logistic', 'eval_metric': 'aucpr', 'scale_pos_weight': 3.017314864144912, 'max_depth': 5, 'eta': 0.01, 'subsample': 0.6, 'colsample_bytree': 0.8, 'random_state': 42}\n",
      "Test AUC-PR Mean: 0.6532075395177409, Boost Rounds: 31, Params: {'objective': 'binary:logistic', 'eval_metric': 'aucpr', 'scale_pos_weight': 3.017314864144912, 'max_depth': 5, 'eta': 0.01, 'subsample': 0.6, 'colsample_bytree': 1.0, 'random_state': 42}\n",
      "Test AUC-PR Mean: 0.6810794891395706, Boost Rounds: 45, Params: {'objective': 'binary:logistic', 'eval_metric': 'aucpr', 'scale_pos_weight': 3.017314864144912, 'max_depth': 5, 'eta': 0.01, 'subsample': 0.8, 'colsample_bytree': 0.6, 'random_state': 42}\n",
      "Test AUC-PR Mean: 0.674991438311953, Boost Rounds: 27, Params: {'objective': 'binary:logistic', 'eval_metric': 'aucpr', 'scale_pos_weight': 3.017314864144912, 'max_depth': 5, 'eta': 0.01, 'subsample': 0.8, 'colsample_bytree': 0.8, 'random_state': 42}\n",
      "Test AUC-PR Mean: 0.6460871575586253, Boost Rounds: 31, Params: {'objective': 'binary:logistic', 'eval_metric': 'aucpr', 'scale_pos_weight': 3.017314864144912, 'max_depth': 5, 'eta': 0.01, 'subsample': 0.8, 'colsample_bytree': 1.0, 'random_state': 42}\n",
      "Test AUC-PR Mean: 0.6814612966505752, Boost Rounds: 54, Params: {'objective': 'binary:logistic', 'eval_metric': 'aucpr', 'scale_pos_weight': 3.017314864144912, 'max_depth': 5, 'eta': 0.01, 'subsample': 1.0, 'colsample_bytree': 0.6, 'random_state': 42}\n",
      "Test AUC-PR Mean: 0.6749700284347749, Boost Rounds: 28, Params: {'objective': 'binary:logistic', 'eval_metric': 'aucpr', 'scale_pos_weight': 3.017314864144912, 'max_depth': 5, 'eta': 0.01, 'subsample': 1.0, 'colsample_bytree': 0.8, 'random_state': 42}\n",
      "Test AUC-PR Mean: 0.6392163261949869, Boost Rounds: 19, Params: {'objective': 'binary:logistic', 'eval_metric': 'aucpr', 'scale_pos_weight': 3.017314864144912, 'max_depth': 5, 'eta': 0.01, 'subsample': 1.0, 'colsample_bytree': 1.0, 'random_state': 42}\n",
      "Test AUC-PR Mean: 0.6968473985961712, Boost Rounds: 96, Params: {'objective': 'binary:logistic', 'eval_metric': 'aucpr', 'scale_pos_weight': 3.017314864144912, 'max_depth': 5, 'eta': 0.1, 'subsample': 0.6, 'colsample_bytree': 0.6, 'random_state': 42}\n",
      "Test AUC-PR Mean: 0.6945894005282082, Boost Rounds: 84, Params: {'objective': 'binary:logistic', 'eval_metric': 'aucpr', 'scale_pos_weight': 3.017314864144912, 'max_depth': 5, 'eta': 0.1, 'subsample': 0.6, 'colsample_bytree': 0.8, 'random_state': 42}\n",
      "Test AUC-PR Mean: 0.6942133942062743, Boost Rounds: 88, Params: {'objective': 'binary:logistic', 'eval_metric': 'aucpr', 'scale_pos_weight': 3.017314864144912, 'max_depth': 5, 'eta': 0.1, 'subsample': 0.6, 'colsample_bytree': 1.0, 'random_state': 42}\n",
      "Test AUC-PR Mean: 0.6955407710909901, Boost Rounds: 68, Params: {'objective': 'binary:logistic', 'eval_metric': 'aucpr', 'scale_pos_weight': 3.017314864144912, 'max_depth': 5, 'eta': 0.1, 'subsample': 0.8, 'colsample_bytree': 0.6, 'random_state': 42}\n",
      "Test AUC-PR Mean: 0.6942333385144934, Boost Rounds: 88, Params: {'objective': 'binary:logistic', 'eval_metric': 'aucpr', 'scale_pos_weight': 3.017314864144912, 'max_depth': 5, 'eta': 0.1, 'subsample': 0.8, 'colsample_bytree': 0.8, 'random_state': 42}\n",
      "Test AUC-PR Mean: 0.6941818886184808, Boost Rounds: 81, Params: {'objective': 'binary:logistic', 'eval_metric': 'aucpr', 'scale_pos_weight': 3.017314864144912, 'max_depth': 5, 'eta': 0.1, 'subsample': 0.8, 'colsample_bytree': 1.0, 'random_state': 42}\n",
      "Test AUC-PR Mean: 0.6948746742465994, Boost Rounds: 89, Params: {'objective': 'binary:logistic', 'eval_metric': 'aucpr', 'scale_pos_weight': 3.017314864144912, 'max_depth': 5, 'eta': 0.1, 'subsample': 1.0, 'colsample_bytree': 0.6, 'random_state': 42}\n",
      "Test AUC-PR Mean: 0.6669401163815064, Boost Rounds: 6, Params: {'objective': 'binary:logistic', 'eval_metric': 'aucpr', 'scale_pos_weight': 3.017314864144912, 'max_depth': 5, 'eta': 0.1, 'subsample': 1.0, 'colsample_bytree': 0.8, 'random_state': 42}\n",
      "Test AUC-PR Mean: 0.692692778787756, Boost Rounds: 70, Params: {'objective': 'binary:logistic', 'eval_metric': 'aucpr', 'scale_pos_weight': 3.017314864144912, 'max_depth': 5, 'eta': 0.1, 'subsample': 1.0, 'colsample_bytree': 1.0, 'random_state': 42}\n",
      "Test AUC-PR Mean: 0.6950665065472189, Boost Rounds: 60, Params: {'objective': 'binary:logistic', 'eval_metric': 'aucpr', 'scale_pos_weight': 3.017314864144912, 'max_depth': 5, 'eta': 0.2, 'subsample': 0.6, 'colsample_bytree': 0.6, 'random_state': 42}\n",
      "Test AUC-PR Mean: 0.6921416526513418, Boost Rounds: 37, Params: {'objective': 'binary:logistic', 'eval_metric': 'aucpr', 'scale_pos_weight': 3.017314864144912, 'max_depth': 5, 'eta': 0.2, 'subsample': 0.6, 'colsample_bytree': 0.8, 'random_state': 42}\n",
      "Test AUC-PR Mean: 0.6914071826778688, Boost Rounds: 38, Params: {'objective': 'binary:logistic', 'eval_metric': 'aucpr', 'scale_pos_weight': 3.017314864144912, 'max_depth': 5, 'eta': 0.2, 'subsample': 0.6, 'colsample_bytree': 1.0, 'random_state': 42}\n",
      "Test AUC-PR Mean: 0.6954432635379865, Boost Rounds: 39, Params: {'objective': 'binary:logistic', 'eval_metric': 'aucpr', 'scale_pos_weight': 3.017314864144912, 'max_depth': 5, 'eta': 0.2, 'subsample': 0.8, 'colsample_bytree': 0.6, 'random_state': 42}\n",
      "Test AUC-PR Mean: 0.6924268190091758, Boost Rounds: 35, Params: {'objective': 'binary:logistic', 'eval_metric': 'aucpr', 'scale_pos_weight': 3.017314864144912, 'max_depth': 5, 'eta': 0.2, 'subsample': 0.8, 'colsample_bytree': 0.8, 'random_state': 42}\n",
      "Test AUC-PR Mean: 0.6933088374084057, Boost Rounds: 37, Params: {'objective': 'binary:logistic', 'eval_metric': 'aucpr', 'scale_pos_weight': 3.017314864144912, 'max_depth': 5, 'eta': 0.2, 'subsample': 0.8, 'colsample_bytree': 1.0, 'random_state': 42}\n",
      "Test AUC-PR Mean: 0.6949429048875895, Boost Rounds: 59, Params: {'objective': 'binary:logistic', 'eval_metric': 'aucpr', 'scale_pos_weight': 3.017314864144912, 'max_depth': 5, 'eta': 0.2, 'subsample': 1.0, 'colsample_bytree': 0.6, 'random_state': 42}\n",
      "Test AUC-PR Mean: 0.6934586206834705, Boost Rounds: 62, Params: {'objective': 'binary:logistic', 'eval_metric': 'aucpr', 'scale_pos_weight': 3.017314864144912, 'max_depth': 5, 'eta': 0.2, 'subsample': 1.0, 'colsample_bytree': 0.8, 'random_state': 42}\n",
      "Test AUC-PR Mean: 0.6937643661694263, Boost Rounds: 33, Params: {'objective': 'binary:logistic', 'eval_metric': 'aucpr', 'scale_pos_weight': 3.017314864144912, 'max_depth': 5, 'eta': 0.2, 'subsample': 1.0, 'colsample_bytree': 1.0, 'random_state': 42}\n",
      "Test AUC-PR Mean: 0.6873751650297888, Boost Rounds: 45, Params: {'objective': 'binary:logistic', 'eval_metric': 'aucpr', 'scale_pos_weight': 3.017314864144912, 'max_depth': 7, 'eta': 0.01, 'subsample': 0.6, 'colsample_bytree': 0.6, 'random_state': 42}\n",
      "Test AUC-PR Mean: 0.6801469916509814, Boost Rounds: 4, Params: {'objective': 'binary:logistic', 'eval_metric': 'aucpr', 'scale_pos_weight': 3.017314864144912, 'max_depth': 7, 'eta': 0.01, 'subsample': 0.6, 'colsample_bytree': 0.8, 'random_state': 42}\n",
      "Test AUC-PR Mean: 0.6759256934779252, Boost Rounds: 79, Params: {'objective': 'binary:logistic', 'eval_metric': 'aucpr', 'scale_pos_weight': 3.017314864144912, 'max_depth': 7, 'eta': 0.01, 'subsample': 0.6, 'colsample_bytree': 1.0, 'random_state': 42}\n",
      "Test AUC-PR Mean: 0.6875487386982649, Boost Rounds: 46, Params: {'objective': 'binary:logistic', 'eval_metric': 'aucpr', 'scale_pos_weight': 3.017314864144912, 'max_depth': 7, 'eta': 0.01, 'subsample': 0.8, 'colsample_bytree': 0.6, 'random_state': 42}\n",
      "Test AUC-PR Mean: 0.6851186751410262, Boost Rounds: 81, Params: {'objective': 'binary:logistic', 'eval_metric': 'aucpr', 'scale_pos_weight': 3.017314864144912, 'max_depth': 7, 'eta': 0.01, 'subsample': 0.8, 'colsample_bytree': 0.8, 'random_state': 42}\n",
      "Test AUC-PR Mean: 0.6857347324277018, Boost Rounds: 220, Params: {'objective': 'binary:logistic', 'eval_metric': 'aucpr', 'scale_pos_weight': 3.017314864144912, 'max_depth': 7, 'eta': 0.01, 'subsample': 0.8, 'colsample_bytree': 1.0, 'random_state': 42}\n",
      "Test AUC-PR Mean: 0.6876049165419841, Boost Rounds: 46, Params: {'objective': 'binary:logistic', 'eval_metric': 'aucpr', 'scale_pos_weight': 3.017314864144912, 'max_depth': 7, 'eta': 0.01, 'subsample': 1.0, 'colsample_bytree': 0.6, 'random_state': 42}\n",
      "Test AUC-PR Mean: 0.6778692206336547, Boost Rounds: 4, Params: {'objective': 'binary:logistic', 'eval_metric': 'aucpr', 'scale_pos_weight': 3.017314864144912, 'max_depth': 7, 'eta': 0.01, 'subsample': 1.0, 'colsample_bytree': 0.8, 'random_state': 42}\n",
      "Test AUC-PR Mean: 0.6862124399974339, Boost Rounds: 290, Params: {'objective': 'binary:logistic', 'eval_metric': 'aucpr', 'scale_pos_weight': 3.017314864144912, 'max_depth': 7, 'eta': 0.01, 'subsample': 1.0, 'colsample_bytree': 1.0, 'random_state': 42}\n",
      "Test AUC-PR Mean: 0.6953082141464563, Boost Rounds: 53, Params: {'objective': 'binary:logistic', 'eval_metric': 'aucpr', 'scale_pos_weight': 3.017314864144912, 'max_depth': 7, 'eta': 0.1, 'subsample': 0.6, 'colsample_bytree': 0.6, 'random_state': 42}\n",
      "Test AUC-PR Mean: 0.6941098946578266, Boost Rounds: 62, Params: {'objective': 'binary:logistic', 'eval_metric': 'aucpr', 'scale_pos_weight': 3.017314864144912, 'max_depth': 7, 'eta': 0.1, 'subsample': 0.6, 'colsample_bytree': 0.8, 'random_state': 42}\n",
      "Test AUC-PR Mean: 0.6886513544063941, Boost Rounds: 37, Params: {'objective': 'binary:logistic', 'eval_metric': 'aucpr', 'scale_pos_weight': 3.017314864144912, 'max_depth': 7, 'eta': 0.1, 'subsample': 0.6, 'colsample_bytree': 1.0, 'random_state': 42}\n",
      "Test AUC-PR Mean: 0.6951878768262029, Boost Rounds: 51, Params: {'objective': 'binary:logistic', 'eval_metric': 'aucpr', 'scale_pos_weight': 3.017314864144912, 'max_depth': 7, 'eta': 0.1, 'subsample': 0.8, 'colsample_bytree': 0.6, 'random_state': 42}\n",
      "Test AUC-PR Mean: 0.6927335122497197, Boost Rounds: 43, Params: {'objective': 'binary:logistic', 'eval_metric': 'aucpr', 'scale_pos_weight': 3.017314864144912, 'max_depth': 7, 'eta': 0.1, 'subsample': 0.8, 'colsample_bytree': 0.8, 'random_state': 42}\n",
      "Test AUC-PR Mean: 0.6910532426306454, Boost Rounds: 62, Params: {'objective': 'binary:logistic', 'eval_metric': 'aucpr', 'scale_pos_weight': 3.017314864144912, 'max_depth': 7, 'eta': 0.1, 'subsample': 0.8, 'colsample_bytree': 1.0, 'random_state': 42}\n",
      "Test AUC-PR Mean: 0.6948055757240873, Boost Rounds: 52, Params: {'objective': 'binary:logistic', 'eval_metric': 'aucpr', 'scale_pos_weight': 3.017314864144912, 'max_depth': 7, 'eta': 0.1, 'subsample': 1.0, 'colsample_bytree': 0.6, 'random_state': 42}\n",
      "Test AUC-PR Mean: 0.692448306112787, Boost Rounds: 48, Params: {'objective': 'binary:logistic', 'eval_metric': 'aucpr', 'scale_pos_weight': 3.017314864144912, 'max_depth': 7, 'eta': 0.1, 'subsample': 1.0, 'colsample_bytree': 0.8, 'random_state': 42}\n",
      "Test AUC-PR Mean: 0.6907854695488332, Boost Rounds: 60, Params: {'objective': 'binary:logistic', 'eval_metric': 'aucpr', 'scale_pos_weight': 3.017314864144912, 'max_depth': 7, 'eta': 0.1, 'subsample': 1.0, 'colsample_bytree': 1.0, 'random_state': 42}\n",
      "Test AUC-PR Mean: 0.6947583861357901, Boost Rounds: 36, Params: {'objective': 'binary:logistic', 'eval_metric': 'aucpr', 'scale_pos_weight': 3.017314864144912, 'max_depth': 7, 'eta': 0.2, 'subsample': 0.6, 'colsample_bytree': 0.6, 'random_state': 42}\n",
      "Test AUC-PR Mean: 0.6925699277090525, Boost Rounds: 33, Params: {'objective': 'binary:logistic', 'eval_metric': 'aucpr', 'scale_pos_weight': 3.017314864144912, 'max_depth': 7, 'eta': 0.2, 'subsample': 0.6, 'colsample_bytree': 0.8, 'random_state': 42}\n",
      "Test AUC-PR Mean: 0.6920480625651027, Boost Rounds: 28, Params: {'objective': 'binary:logistic', 'eval_metric': 'aucpr', 'scale_pos_weight': 3.017314864144912, 'max_depth': 7, 'eta': 0.2, 'subsample': 0.6, 'colsample_bytree': 1.0, 'random_state': 42}\n",
      "Test AUC-PR Mean: 0.693827339338914, Boost Rounds: 24, Params: {'objective': 'binary:logistic', 'eval_metric': 'aucpr', 'scale_pos_weight': 3.017314864144912, 'max_depth': 7, 'eta': 0.2, 'subsample': 0.8, 'colsample_bytree': 0.6, 'random_state': 42}\n",
      "Test AUC-PR Mean: 0.6913599911957218, Boost Rounds: 28, Params: {'objective': 'binary:logistic', 'eval_metric': 'aucpr', 'scale_pos_weight': 3.017314864144912, 'max_depth': 7, 'eta': 0.2, 'subsample': 0.8, 'colsample_bytree': 0.8, 'random_state': 42}\n",
      "Test AUC-PR Mean: 0.6915497439490687, Boost Rounds: 33, Params: {'objective': 'binary:logistic', 'eval_metric': 'aucpr', 'scale_pos_weight': 3.017314864144912, 'max_depth': 7, 'eta': 0.2, 'subsample': 0.8, 'colsample_bytree': 1.0, 'random_state': 42}\n",
      "Test AUC-PR Mean: 0.6954011813201187, Boost Rounds: 38, Params: {'objective': 'binary:logistic', 'eval_metric': 'aucpr', 'scale_pos_weight': 3.017314864144912, 'max_depth': 7, 'eta': 0.2, 'subsample': 1.0, 'colsample_bytree': 0.6, 'random_state': 42}\n",
      "Test AUC-PR Mean: 0.6918525514642297, Boost Rounds: 21, Params: {'objective': 'binary:logistic', 'eval_metric': 'aucpr', 'scale_pos_weight': 3.017314864144912, 'max_depth': 7, 'eta': 0.2, 'subsample': 1.0, 'colsample_bytree': 0.8, 'random_state': 42}\n",
      "Test AUC-PR Mean: 0.6913562776780959, Boost Rounds: 27, Params: {'objective': 'binary:logistic', 'eval_metric': 'aucpr', 'scale_pos_weight': 3.017314864144912, 'max_depth': 7, 'eta': 0.2, 'subsample': 1.0, 'colsample_bytree': 1.0, 'random_state': 42}\n"
     ]
    },
    {
     "data": {
      "image/png": "[encoded data removed]",
      "text/plain": [
       "<Figure size 800x600 with 2 Axes>"
      ]
     },
     "metadata": {},
     "output_type": "display_data"
    },
    {
     "name": "stdout",
     "output_type": "stream",
     "text": [
      "Classification Report:\n",
      "              precision    recall  f1-score   support\n",
      "\n",
      "           0       0.95      0.68      0.79     11360\n",
      "           1       0.47      0.90      0.62      3700\n",
      "\n",
      "    accuracy                           0.73     15060\n",
      "   macro avg       0.71      0.79      0.71     15060\n",
      "weighted avg       0.84      0.73      0.75     15060\n",
      "\n",
      "ROC-AUC Score:\n",
      "0.8760765726113438\n",
      "PR AUC Score:\n",
      "0.6868938751427429\n",
      "Total time taken: 138.83 seconds\n"
     ]
    },
    {
     "data": {
      "text/plain": [
       "<xgboost.core.Booster at 0x279bb8b4bf0>"
      ]
     },
     "execution_count": 24,
     "metadata": {},
     "output_type": "execute_result"
    }
   ],
   "source": [
    "model_ordinal = custom_grid_search_cv_xgb(X_ordinal_train, y_train, X_ordinal_test, y_test)\n",
    "model_ordinal"
   ]
  },
  {
   "cell_type": "code",
   "execution_count": 25,
   "id": "ca81bb5a-2f33-42e6-ada7-c14b6ef8989b",
   "metadata": {},
   "outputs": [
    {
     "name": "stdout",
     "output_type": "stream",
     "text": [
      "Test AUC-PR Mean: 0.6404991950311474, Boost Rounds: 36, Params: {'objective': 'binary:logistic', 'eval_metric': 'aucpr', 'scale_pos_weight': 3.017314864144912, 'max_depth': 3, 'eta': 0.01, 'subsample': 0.6, 'colsample_bytree': 0.6, 'random_state': 42}\n",
      "Test AUC-PR Mean: 0.6314005472781018, Boost Rounds: 8, Params: {'objective': 'binary:logistic', 'eval_metric': 'aucpr', 'scale_pos_weight': 3.017314864144912, 'max_depth': 3, 'eta': 0.01, 'subsample': 0.6, 'colsample_bytree': 0.8, 'random_state': 42}\n",
      "Test AUC-PR Mean: 0.6380790006209923, Boost Rounds: 67, Params: {'objective': 'binary:logistic', 'eval_metric': 'aucpr', 'scale_pos_weight': 3.017314864144912, 'max_depth': 3, 'eta': 0.01, 'subsample': 0.6, 'colsample_bytree': 1.0, 'random_state': 42}\n",
      "Test AUC-PR Mean: 0.6355688561010191, Boost Rounds: 9, Params: {'objective': 'binary:logistic', 'eval_metric': 'aucpr', 'scale_pos_weight': 3.017314864144912, 'max_depth': 3, 'eta': 0.01, 'subsample': 0.8, 'colsample_bytree': 0.6, 'random_state': 42}\n",
      "Test AUC-PR Mean: 0.6279700387117132, Boost Rounds: 6, Params: {'objective': 'binary:logistic', 'eval_metric': 'aucpr', 'scale_pos_weight': 3.017314864144912, 'max_depth': 3, 'eta': 0.01, 'subsample': 0.8, 'colsample_bytree': 0.8, 'random_state': 42}\n",
      "Test AUC-PR Mean: 0.6367989549061561, Boost Rounds: 77, Params: {'objective': 'binary:logistic', 'eval_metric': 'aucpr', 'scale_pos_weight': 3.017314864144912, 'max_depth': 3, 'eta': 0.01, 'subsample': 0.8, 'colsample_bytree': 1.0, 'random_state': 42}\n",
      "Test AUC-PR Mean: 0.6366352367994321, Boost Rounds: 40, Params: {'objective': 'binary:logistic', 'eval_metric': 'aucpr', 'scale_pos_weight': 3.017314864144912, 'max_depth': 3, 'eta': 0.01, 'subsample': 1.0, 'colsample_bytree': 0.6, 'random_state': 42}\n",
      "Test AUC-PR Mean: 0.6341896994365258, Boost Rounds: 38, Params: {'objective': 'binary:logistic', 'eval_metric': 'aucpr', 'scale_pos_weight': 3.017314864144912, 'max_depth': 3, 'eta': 0.01, 'subsample': 1.0, 'colsample_bytree': 0.8, 'random_state': 42}\n",
      "Test AUC-PR Mean: 0.6322528338854484, Boost Rounds: 59, Params: {'objective': 'binary:logistic', 'eval_metric': 'aucpr', 'scale_pos_weight': 3.017314864144912, 'max_depth': 3, 'eta': 0.01, 'subsample': 1.0, 'colsample_bytree': 1.0, 'random_state': 42}\n",
      "Test AUC-PR Mean: 0.6979073572154609, Boost Rounds: 185, Params: {'objective': 'binary:logistic', 'eval_metric': 'aucpr', 'scale_pos_weight': 3.017314864144912, 'max_depth': 3, 'eta': 0.1, 'subsample': 0.6, 'colsample_bytree': 0.6, 'random_state': 42}\n",
      "Test AUC-PR Mean: 0.693529148396279, Boost Rounds: 115, Params: {'objective': 'binary:logistic', 'eval_metric': 'aucpr', 'scale_pos_weight': 3.017314864144912, 'max_depth': 3, 'eta': 0.1, 'subsample': 0.6, 'colsample_bytree': 0.8, 'random_state': 42}\n",
      "Test AUC-PR Mean: 0.6943514349641378, Boost Rounds: 140, Params: {'objective': 'binary:logistic', 'eval_metric': 'aucpr', 'scale_pos_weight': 3.017314864144912, 'max_depth': 3, 'eta': 0.1, 'subsample': 0.6, 'colsample_bytree': 1.0, 'random_state': 42}\n",
      "Test AUC-PR Mean: 0.6951376890235302, Boost Rounds: 146, Params: {'objective': 'binary:logistic', 'eval_metric': 'aucpr', 'scale_pos_weight': 3.017314864144912, 'max_depth': 3, 'eta': 0.1, 'subsample': 0.8, 'colsample_bytree': 0.6, 'random_state': 42}\n",
      "Test AUC-PR Mean: 0.6952985919387392, Boost Rounds: 146, Params: {'objective': 'binary:logistic', 'eval_metric': 'aucpr', 'scale_pos_weight': 3.017314864144912, 'max_depth': 3, 'eta': 0.1, 'subsample': 0.8, 'colsample_bytree': 0.8, 'random_state': 42}\n",
      "Test AUC-PR Mean: 0.6971982762922823, Boost Rounds: 185, Params: {'objective': 'binary:logistic', 'eval_metric': 'aucpr', 'scale_pos_weight': 3.017314864144912, 'max_depth': 3, 'eta': 0.1, 'subsample': 0.8, 'colsample_bytree': 1.0, 'random_state': 42}\n",
      "Test AUC-PR Mean: 0.6944304112488204, Boost Rounds: 140, Params: {'objective': 'binary:logistic', 'eval_metric': 'aucpr', 'scale_pos_weight': 3.017314864144912, 'max_depth': 3, 'eta': 0.1, 'subsample': 1.0, 'colsample_bytree': 0.6, 'random_state': 42}\n",
      "Test AUC-PR Mean: 0.6932938397598022, Boost Rounds: 134, Params: {'objective': 'binary:logistic', 'eval_metric': 'aucpr', 'scale_pos_weight': 3.017314864144912, 'max_depth': 3, 'eta': 0.1, 'subsample': 1.0, 'colsample_bytree': 0.8, 'random_state': 42}\n",
      "Test AUC-PR Mean: 0.6950140331662511, Boost Rounds: 171, Params: {'objective': 'binary:logistic', 'eval_metric': 'aucpr', 'scale_pos_weight': 3.017314864144912, 'max_depth': 3, 'eta': 0.1, 'subsample': 1.0, 'colsample_bytree': 1.0, 'random_state': 42}\n",
      "Test AUC-PR Mean: 0.6951094335761666, Boost Rounds: 82, Params: {'objective': 'binary:logistic', 'eval_metric': 'aucpr', 'scale_pos_weight': 3.017314864144912, 'max_depth': 3, 'eta': 0.2, 'subsample': 0.6, 'colsample_bytree': 0.6, 'random_state': 42}\n",
      "Test AUC-PR Mean: 0.6963993778236913, Boost Rounds: 72, Params: {'objective': 'binary:logistic', 'eval_metric': 'aucpr', 'scale_pos_weight': 3.017314864144912, 'max_depth': 3, 'eta': 0.2, 'subsample': 0.6, 'colsample_bytree': 0.8, 'random_state': 42}\n",
      "Test AUC-PR Mean: 0.6940254926012409, Boost Rounds: 85, Params: {'objective': 'binary:logistic', 'eval_metric': 'aucpr', 'scale_pos_weight': 3.017314864144912, 'max_depth': 3, 'eta': 0.2, 'subsample': 0.6, 'colsample_bytree': 1.0, 'random_state': 42}\n",
      "Test AUC-PR Mean: 0.6964446710681055, Boost Rounds: 103, Params: {'objective': 'binary:logistic', 'eval_metric': 'aucpr', 'scale_pos_weight': 3.017314864144912, 'max_depth': 3, 'eta': 0.2, 'subsample': 0.8, 'colsample_bytree': 0.6, 'random_state': 42}\n",
      "Test AUC-PR Mean: 0.6970711958673882, Boost Rounds: 118, Params: {'objective': 'binary:logistic', 'eval_metric': 'aucpr', 'scale_pos_weight': 3.017314864144912, 'max_depth': 3, 'eta': 0.2, 'subsample': 0.8, 'colsample_bytree': 0.8, 'random_state': 42}\n",
      "Test AUC-PR Mean: 0.6967394375735348, Boost Rounds: 102, Params: {'objective': 'binary:logistic', 'eval_metric': 'aucpr', 'scale_pos_weight': 3.017314864144912, 'max_depth': 3, 'eta': 0.2, 'subsample': 0.8, 'colsample_bytree': 1.0, 'random_state': 42}\n",
      "Test AUC-PR Mean: 0.6962233858625053, Boost Rounds: 103, Params: {'objective': 'binary:logistic', 'eval_metric': 'aucpr', 'scale_pos_weight': 3.017314864144912, 'max_depth': 3, 'eta': 0.2, 'subsample': 1.0, 'colsample_bytree': 0.6, 'random_state': 42}\n",
      "Test AUC-PR Mean: 0.6954628989658188, Boost Rounds: 90, Params: {'objective': 'binary:logistic', 'eval_metric': 'aucpr', 'scale_pos_weight': 3.017314864144912, 'max_depth': 3, 'eta': 0.2, 'subsample': 1.0, 'colsample_bytree': 0.8, 'random_state': 42}\n",
      "Test AUC-PR Mean: 0.6942395068595792, Boost Rounds: 75, Params: {'objective': 'binary:logistic', 'eval_metric': 'aucpr', 'scale_pos_weight': 3.017314864144912, 'max_depth': 3, 'eta': 0.2, 'subsample': 1.0, 'colsample_bytree': 1.0, 'random_state': 42}\n",
      "Test AUC-PR Mean: 0.6695415329713219, Boost Rounds: 18, Params: {'objective': 'binary:logistic', 'eval_metric': 'aucpr', 'scale_pos_weight': 3.017314864144912, 'max_depth': 5, 'eta': 0.01, 'subsample': 0.6, 'colsample_bytree': 0.6, 'random_state': 42}\n",
      "Test AUC-PR Mean: 0.6739959520516724, Boost Rounds: 38, Params: {'objective': 'binary:logistic', 'eval_metric': 'aucpr', 'scale_pos_weight': 3.017314864144912, 'max_depth': 5, 'eta': 0.01, 'subsample': 0.6, 'colsample_bytree': 0.8, 'random_state': 42}\n",
      "Test AUC-PR Mean: 0.6774919508078101, Boost Rounds: 124, Params: {'objective': 'binary:logistic', 'eval_metric': 'aucpr', 'scale_pos_weight': 3.017314864144912, 'max_depth': 5, 'eta': 0.01, 'subsample': 0.6, 'colsample_bytree': 1.0, 'random_state': 42}\n",
      "Test AUC-PR Mean: 0.6709684806748698, Boost Rounds: 18, Params: {'objective': 'binary:logistic', 'eval_metric': 'aucpr', 'scale_pos_weight': 3.017314864144912, 'max_depth': 5, 'eta': 0.01, 'subsample': 0.8, 'colsample_bytree': 0.6, 'random_state': 42}\n",
      "Test AUC-PR Mean: 0.6732696045653705, Boost Rounds: 51, Params: {'objective': 'binary:logistic', 'eval_metric': 'aucpr', 'scale_pos_weight': 3.017314864144912, 'max_depth': 5, 'eta': 0.01, 'subsample': 0.8, 'colsample_bytree': 0.8, 'random_state': 42}\n",
      "Test AUC-PR Mean: 0.6747770281216189, Boost Rounds: 92, Params: {'objective': 'binary:logistic', 'eval_metric': 'aucpr', 'scale_pos_weight': 3.017314864144912, 'max_depth': 5, 'eta': 0.01, 'subsample': 0.8, 'colsample_bytree': 1.0, 'random_state': 42}\n",
      "Test AUC-PR Mean: 0.6680006360363092, Boost Rounds: 16, Params: {'objective': 'binary:logistic', 'eval_metric': 'aucpr', 'scale_pos_weight': 3.017314864144912, 'max_depth': 5, 'eta': 0.01, 'subsample': 1.0, 'colsample_bytree': 0.6, 'random_state': 42}\n",
      "Test AUC-PR Mean: 0.6706437296127118, Boost Rounds: 53, Params: {'objective': 'binary:logistic', 'eval_metric': 'aucpr', 'scale_pos_weight': 3.017314864144912, 'max_depth': 5, 'eta': 0.01, 'subsample': 1.0, 'colsample_bytree': 0.8, 'random_state': 42}\n",
      "Test AUC-PR Mean: 0.6922822855259606, Boost Rounds: 539, Params: {'objective': 'binary:logistic', 'eval_metric': 'aucpr', 'scale_pos_weight': 3.017314864144912, 'max_depth': 5, 'eta': 0.01, 'subsample': 1.0, 'colsample_bytree': 1.0, 'random_state': 42}\n",
      "Test AUC-PR Mean: 0.6967277015423973, Boost Rounds: 83, Params: {'objective': 'binary:logistic', 'eval_metric': 'aucpr', 'scale_pos_weight': 3.017314864144912, 'max_depth': 5, 'eta': 0.1, 'subsample': 0.6, 'colsample_bytree': 0.6, 'random_state': 42}\n",
      "Test AUC-PR Mean: 0.6961437898436631, Boost Rounds: 82, Params: {'objective': 'binary:logistic', 'eval_metric': 'aucpr', 'scale_pos_weight': 3.017314864144912, 'max_depth': 5, 'eta': 0.1, 'subsample': 0.6, 'colsample_bytree': 0.8, 'random_state': 42}\n",
      "Test AUC-PR Mean: 0.6982142086882838, Boost Rounds: 92, Params: {'objective': 'binary:logistic', 'eval_metric': 'aucpr', 'scale_pos_weight': 3.017314864144912, 'max_depth': 5, 'eta': 0.1, 'subsample': 0.6, 'colsample_bytree': 1.0, 'random_state': 42}\n",
      "Test AUC-PR Mean: 0.696968411408264, Boost Rounds: 101, Params: {'objective': 'binary:logistic', 'eval_metric': 'aucpr', 'scale_pos_weight': 3.017314864144912, 'max_depth': 5, 'eta': 0.1, 'subsample': 0.8, 'colsample_bytree': 0.6, 'random_state': 42}\n",
      "Test AUC-PR Mean: 0.6977944202037459, Boost Rounds: 109, Params: {'objective': 'binary:logistic', 'eval_metric': 'aucpr', 'scale_pos_weight': 3.017314864144912, 'max_depth': 5, 'eta': 0.1, 'subsample': 0.8, 'colsample_bytree': 0.8, 'random_state': 42}\n",
      "Test AUC-PR Mean: 0.6962347061432704, Boost Rounds: 87, Params: {'objective': 'binary:logistic', 'eval_metric': 'aucpr', 'scale_pos_weight': 3.017314864144912, 'max_depth': 5, 'eta': 0.1, 'subsample': 0.8, 'colsample_bytree': 1.0, 'random_state': 42}\n",
      "Test AUC-PR Mean: 0.6982081943467531, Boost Rounds: 171, Params: {'objective': 'binary:logistic', 'eval_metric': 'aucpr', 'scale_pos_weight': 3.017314864144912, 'max_depth': 5, 'eta': 0.1, 'subsample': 1.0, 'colsample_bytree': 0.6, 'random_state': 42}\n",
      "Test AUC-PR Mean: 0.6963272653484012, Boost Rounds: 104, Params: {'objective': 'binary:logistic', 'eval_metric': 'aucpr', 'scale_pos_weight': 3.017314864144912, 'max_depth': 5, 'eta': 0.1, 'subsample': 1.0, 'colsample_bytree': 0.8, 'random_state': 42}\n",
      "Test AUC-PR Mean: 0.6956755642170984, Boost Rounds: 92, Params: {'objective': 'binary:logistic', 'eval_metric': 'aucpr', 'scale_pos_weight': 3.017314864144912, 'max_depth': 5, 'eta': 0.1, 'subsample': 1.0, 'colsample_bytree': 1.0, 'random_state': 42}\n",
      "Test AUC-PR Mean: 0.6964709842520399, Boost Rounds: 63, Params: {'objective': 'binary:logistic', 'eval_metric': 'aucpr', 'scale_pos_weight': 3.017314864144912, 'max_depth': 5, 'eta': 0.2, 'subsample': 0.6, 'colsample_bytree': 0.6, 'random_state': 42}\n",
      "Test AUC-PR Mean: 0.6943348484267661, Boost Rounds: 60, Params: {'objective': 'binary:logistic', 'eval_metric': 'aucpr', 'scale_pos_weight': 3.017314864144912, 'max_depth': 5, 'eta': 0.2, 'subsample': 0.6, 'colsample_bytree': 0.8, 'random_state': 42}\n",
      "Test AUC-PR Mean: 0.6962829552263307, Boost Rounds: 62, Params: {'objective': 'binary:logistic', 'eval_metric': 'aucpr', 'scale_pos_weight': 3.017314864144912, 'max_depth': 5, 'eta': 0.2, 'subsample': 0.6, 'colsample_bytree': 1.0, 'random_state': 42}\n",
      "Test AUC-PR Mean: 0.6977375757179214, Boost Rounds: 64, Params: {'objective': 'binary:logistic', 'eval_metric': 'aucpr', 'scale_pos_weight': 3.017314864144912, 'max_depth': 5, 'eta': 0.2, 'subsample': 0.8, 'colsample_bytree': 0.6, 'random_state': 42}\n",
      "Test AUC-PR Mean: 0.6969673524245699, Boost Rounds: 75, Params: {'objective': 'binary:logistic', 'eval_metric': 'aucpr', 'scale_pos_weight': 3.017314864144912, 'max_depth': 5, 'eta': 0.2, 'subsample': 0.8, 'colsample_bytree': 0.8, 'random_state': 42}\n",
      "Test AUC-PR Mean: 0.6967369458497776, Boost Rounds: 61, Params: {'objective': 'binary:logistic', 'eval_metric': 'aucpr', 'scale_pos_weight': 3.017314864144912, 'max_depth': 5, 'eta': 0.2, 'subsample': 0.8, 'colsample_bytree': 1.0, 'random_state': 42}\n",
      "Test AUC-PR Mean: 0.6961112475616543, Boost Rounds: 47, Params: {'objective': 'binary:logistic', 'eval_metric': 'aucpr', 'scale_pos_weight': 3.017314864144912, 'max_depth': 5, 'eta': 0.2, 'subsample': 1.0, 'colsample_bytree': 0.6, 'random_state': 42}\n",
      "Test AUC-PR Mean: 0.6977228776288142, Boost Rounds: 67, Params: {'objective': 'binary:logistic', 'eval_metric': 'aucpr', 'scale_pos_weight': 3.017314864144912, 'max_depth': 5, 'eta': 0.2, 'subsample': 1.0, 'colsample_bytree': 0.8, 'random_state': 42}\n",
      "Test AUC-PR Mean: 0.697331128322792, Boost Rounds: 112, Params: {'objective': 'binary:logistic', 'eval_metric': 'aucpr', 'scale_pos_weight': 3.017314864144912, 'max_depth': 5, 'eta': 0.2, 'subsample': 1.0, 'colsample_bytree': 1.0, 'random_state': 42}\n",
      "Test AUC-PR Mean: 0.6782575952199067, Boost Rounds: 18, Params: {'objective': 'binary:logistic', 'eval_metric': 'aucpr', 'scale_pos_weight': 3.017314864144912, 'max_depth': 7, 'eta': 0.01, 'subsample': 0.6, 'colsample_bytree': 0.6, 'random_state': 42}\n",
      "Test AUC-PR Mean: 0.6790041119501812, Boost Rounds: 12, Params: {'objective': 'binary:logistic', 'eval_metric': 'aucpr', 'scale_pos_weight': 3.017314864144912, 'max_depth': 7, 'eta': 0.01, 'subsample': 0.6, 'colsample_bytree': 0.8, 'random_state': 42}\n",
      "Test AUC-PR Mean: 0.6817586942128472, Boost Rounds: 66, Params: {'objective': 'binary:logistic', 'eval_metric': 'aucpr', 'scale_pos_weight': 3.017314864144912, 'max_depth': 7, 'eta': 0.01, 'subsample': 0.6, 'colsample_bytree': 1.0, 'random_state': 42}\n",
      "Test AUC-PR Mean: 0.6791749887679631, Boost Rounds: 13, Params: {'objective': 'binary:logistic', 'eval_metric': 'aucpr', 'scale_pos_weight': 3.017314864144912, 'max_depth': 7, 'eta': 0.01, 'subsample': 0.8, 'colsample_bytree': 0.6, 'random_state': 42}\n",
      "Test AUC-PR Mean: 0.6828555870231815, Boost Rounds: 43, Params: {'objective': 'binary:logistic', 'eval_metric': 'aucpr', 'scale_pos_weight': 3.017314864144912, 'max_depth': 7, 'eta': 0.01, 'subsample': 0.8, 'colsample_bytree': 0.8, 'random_state': 42}\n",
      "Test AUC-PR Mean: 0.6794692949973403, Boost Rounds: 44, Params: {'objective': 'binary:logistic', 'eval_metric': 'aucpr', 'scale_pos_weight': 3.017314864144912, 'max_depth': 7, 'eta': 0.01, 'subsample': 0.8, 'colsample_bytree': 1.0, 'random_state': 42}\n",
      "Test AUC-PR Mean: 0.6791792542960104, Boost Rounds: 14, Params: {'objective': 'binary:logistic', 'eval_metric': 'aucpr', 'scale_pos_weight': 3.017314864144912, 'max_depth': 7, 'eta': 0.01, 'subsample': 1.0, 'colsample_bytree': 0.6, 'random_state': 42}\n",
      "Test AUC-PR Mean: 0.6836255575742314, Boost Rounds: 86, Params: {'objective': 'binary:logistic', 'eval_metric': 'aucpr', 'scale_pos_weight': 3.017314864144912, 'max_depth': 7, 'eta': 0.01, 'subsample': 1.0, 'colsample_bytree': 0.8, 'random_state': 42}\n",
      "Test AUC-PR Mean: 0.6853466687995765, Boost Rounds: 255, Params: {'objective': 'binary:logistic', 'eval_metric': 'aucpr', 'scale_pos_weight': 3.017314864144912, 'max_depth': 7, 'eta': 0.01, 'subsample': 1.0, 'colsample_bytree': 1.0, 'random_state': 42}\n",
      "Test AUC-PR Mean: 0.6947701837491286, Boost Rounds: 81, Params: {'objective': 'binary:logistic', 'eval_metric': 'aucpr', 'scale_pos_weight': 3.017314864144912, 'max_depth': 7, 'eta': 0.1, 'subsample': 0.6, 'colsample_bytree': 0.6, 'random_state': 42}\n",
      "Test AUC-PR Mean: 0.6958816087545182, Boost Rounds: 75, Params: {'objective': 'binary:logistic', 'eval_metric': 'aucpr', 'scale_pos_weight': 3.017314864144912, 'max_depth': 7, 'eta': 0.1, 'subsample': 0.6, 'colsample_bytree': 0.8, 'random_state': 42}\n",
      "Test AUC-PR Mean: 0.6954461338618012, Boost Rounds: 63, Params: {'objective': 'binary:logistic', 'eval_metric': 'aucpr', 'scale_pos_weight': 3.017314864144912, 'max_depth': 7, 'eta': 0.1, 'subsample': 0.6, 'colsample_bytree': 1.0, 'random_state': 42}\n",
      "Test AUC-PR Mean: 0.6958495869430567, Boost Rounds: 93, Params: {'objective': 'binary:logistic', 'eval_metric': 'aucpr', 'scale_pos_weight': 3.017314864144912, 'max_depth': 7, 'eta': 0.1, 'subsample': 0.8, 'colsample_bytree': 0.6, 'random_state': 42}\n",
      "Test AUC-PR Mean: 0.6965620668421497, Boost Rounds: 90, Params: {'objective': 'binary:logistic', 'eval_metric': 'aucpr', 'scale_pos_weight': 3.017314864144912, 'max_depth': 7, 'eta': 0.1, 'subsample': 0.8, 'colsample_bytree': 0.8, 'random_state': 42}\n",
      "Test AUC-PR Mean: 0.6950163197980763, Boost Rounds: 74, Params: {'objective': 'binary:logistic', 'eval_metric': 'aucpr', 'scale_pos_weight': 3.017314864144912, 'max_depth': 7, 'eta': 0.1, 'subsample': 0.8, 'colsample_bytree': 1.0, 'random_state': 42}\n",
      "Test AUC-PR Mean: 0.6966405578067677, Boost Rounds: 112, Params: {'objective': 'binary:logistic', 'eval_metric': 'aucpr', 'scale_pos_weight': 3.017314864144912, 'max_depth': 7, 'eta': 0.1, 'subsample': 1.0, 'colsample_bytree': 0.6, 'random_state': 42}\n",
      "Test AUC-PR Mean: 0.695457354573798, Boost Rounds: 96, Params: {'objective': 'binary:logistic', 'eval_metric': 'aucpr', 'scale_pos_weight': 3.017314864144912, 'max_depth': 7, 'eta': 0.1, 'subsample': 1.0, 'colsample_bytree': 0.8, 'random_state': 42}\n",
      "Test AUC-PR Mean: 0.6943200796755242, Boost Rounds: 92, Params: {'objective': 'binary:logistic', 'eval_metric': 'aucpr', 'scale_pos_weight': 3.017314864144912, 'max_depth': 7, 'eta': 0.1, 'subsample': 1.0, 'colsample_bytree': 1.0, 'random_state': 42}\n",
      "Test AUC-PR Mean: 0.6926932833876426, Boost Rounds: 29, Params: {'objective': 'binary:logistic', 'eval_metric': 'aucpr', 'scale_pos_weight': 3.017314864144912, 'max_depth': 7, 'eta': 0.2, 'subsample': 0.6, 'colsample_bytree': 0.6, 'random_state': 42}\n",
      "Test AUC-PR Mean: 0.6938523229505273, Boost Rounds: 59, Params: {'objective': 'binary:logistic', 'eval_metric': 'aucpr', 'scale_pos_weight': 3.017314864144912, 'max_depth': 7, 'eta': 0.2, 'subsample': 0.6, 'colsample_bytree': 0.8, 'random_state': 42}\n",
      "Test AUC-PR Mean: 0.6938380292213785, Boost Rounds: 39, Params: {'objective': 'binary:logistic', 'eval_metric': 'aucpr', 'scale_pos_weight': 3.017314864144912, 'max_depth': 7, 'eta': 0.2, 'subsample': 0.6, 'colsample_bytree': 1.0, 'random_state': 42}\n",
      "Test AUC-PR Mean: 0.6944564357768664, Boost Rounds: 22, Params: {'objective': 'binary:logistic', 'eval_metric': 'aucpr', 'scale_pos_weight': 3.017314864144912, 'max_depth': 7, 'eta': 0.2, 'subsample': 0.8, 'colsample_bytree': 0.6, 'random_state': 42}\n",
      "Test AUC-PR Mean: 0.6946940110398693, Boost Rounds: 48, Params: {'objective': 'binary:logistic', 'eval_metric': 'aucpr', 'scale_pos_weight': 3.017314864144912, 'max_depth': 7, 'eta': 0.2, 'subsample': 0.8, 'colsample_bytree': 0.8, 'random_state': 42}\n",
      "Test AUC-PR Mean: 0.6957292111703065, Boost Rounds: 55, Params: {'objective': 'binary:logistic', 'eval_metric': 'aucpr', 'scale_pos_weight': 3.017314864144912, 'max_depth': 7, 'eta': 0.2, 'subsample': 0.8, 'colsample_bytree': 1.0, 'random_state': 42}\n",
      "Test AUC-PR Mean: 0.6963245655667404, Boost Rounds: 61, Params: {'objective': 'binary:logistic', 'eval_metric': 'aucpr', 'scale_pos_weight': 3.017314864144912, 'max_depth': 7, 'eta': 0.2, 'subsample': 1.0, 'colsample_bytree': 0.6, 'random_state': 42}\n",
      "Test AUC-PR Mean: 0.6951813196009266, Boost Rounds: 46, Params: {'objective': 'binary:logistic', 'eval_metric': 'aucpr', 'scale_pos_weight': 3.017314864144912, 'max_depth': 7, 'eta': 0.2, 'subsample': 1.0, 'colsample_bytree': 0.8, 'random_state': 42}\n",
      "Test AUC-PR Mean: 0.6936864983348431, Boost Rounds: 31, Params: {'objective': 'binary:logistic', 'eval_metric': 'aucpr', 'scale_pos_weight': 3.017314864144912, 'max_depth': 7, 'eta': 0.2, 'subsample': 1.0, 'colsample_bytree': 1.0, 'random_state': 42}\n"
     ]
    },
    {
     "data": {
      "image/png": "[encoded data removed]",
      "text/plain": [
       "<Figure size 800x600 with 2 Axes>"
      ]
     },
     "metadata": {},
     "output_type": "display_data"
    },
    {
     "name": "stdout",
     "output_type": "stream",
     "text": [
      "Classification Report:\n",
      "              precision    recall  f1-score   support\n",
      "\n",
      "           0       0.95      0.69      0.80     11360\n",
      "           1       0.48      0.90      0.63      3700\n",
      "\n",
      "    accuracy                           0.74     15060\n",
      "   macro avg       0.72      0.79      0.71     15060\n",
      "weighted avg       0.84      0.74      0.76     15060\n",
      "\n",
      "ROC-AUC Score:\n",
      "0.8760848282261136\n",
      "PR AUC Score:\n",
      "0.6862196438333185\n",
      "Total time taken: 178.18 seconds\n"
     ]
    },
    {
     "data": {
      "text/plain": [
       "<xgboost.core.Booster at 0x279bbb1d3a0>"
      ]
     },
     "execution_count": 25,
     "metadata": {},
     "output_type": "execute_result"
    }
   ],
   "source": [
    "model_one_hot = custom_grid_search_cv_xgb(X_one_hot_train, y_train, X_one_hot_test, y_test)\n",
    "model_one_hot"
   ]
  },
  {
   "cell_type": "markdown",
   "id": "7a9375d1-62b0-4d0b-8fa6-48dcfa3e31fc",
   "metadata": {},
   "source": [
    "After this test we arrived to the conclusion that both methods built good models, different but close in quality. Nevertheless, one-hot encoding ended up taking more time as predicted and does take more computer capacity, this difference will be increased if there are more categorical features in our dataset. Ordinal encoding didn't show any signal of inferiority and all the signs of higher perfomance so I recommend anyone that could be reading to take a look at it!"
   ]
  }
 ],
 "metadata": {
  "kernelspec": {
   "display_name": "Python 3 (ipykernel)",
   "language": "python",
   "name": "python3"
  },
  "language_info": {
   "codemirror_mode": {
    "name": "ipython",
    "version": 3
   },
   "file_extension": ".py",
   "mimetype": "text/x-python",
   "name": "python",
   "nbconvert_exporter": "python",
   "pygments_lexer": "ipython3",
   "version": "3.12.2"
  }
 },
 "nbformat": 4,
 "nbformat_minor": 5
}
